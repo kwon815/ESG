{
  "nbformat": 4,
  "nbformat_minor": 0,
  "metadata": {
    "colab": {
      "name": "ESG ratings prediction_220510.ipynb",
      "provenance": [],
      "collapsed_sections": [],
      "machine_shape": "hm",
      "toc_visible": true
    },
    "kernelspec": {
      "name": "python3",
      "display_name": "Python 3"
    },
    "language_info": {
      "name": "python"
    },
    "accelerator": "GPU"
  },
  "cells": [
    {
      "cell_type": "code",
      "execution_count": null,
      "metadata": {
        "id": "eDlDoyDMSR2w",
        "colab": {
          "base_uri": "https://localhost:8080/"
        },
        "outputId": "2cb66b86-0f37-4012-9293-ded38a91fc62"
      },
      "outputs": [
        {
          "output_type": "stream",
          "name": "stdout",
          "text": [
            "Requirement already satisfied: pytorch-transformers in /usr/local/lib/python3.7/dist-packages (1.2.0)\n",
            "Requirement already satisfied: torch>=1.0.0 in /usr/local/lib/python3.7/dist-packages (from pytorch-transformers) (1.11.0+cu113)\n",
            "Requirement already satisfied: numpy in /usr/local/lib/python3.7/dist-packages (from pytorch-transformers) (1.21.6)\n",
            "Requirement already satisfied: boto3 in /usr/local/lib/python3.7/dist-packages (from pytorch-transformers) (1.22.10)\n",
            "Requirement already satisfied: sacremoses in /usr/local/lib/python3.7/dist-packages (from pytorch-transformers) (0.0.53)\n",
            "Requirement already satisfied: regex in /usr/local/lib/python3.7/dist-packages (from pytorch-transformers) (2019.12.20)\n",
            "Requirement already satisfied: sentencepiece in /usr/local/lib/python3.7/dist-packages (from pytorch-transformers) (0.1.96)\n",
            "Requirement already satisfied: tqdm in /usr/local/lib/python3.7/dist-packages (from pytorch-transformers) (4.64.0)\n",
            "Requirement already satisfied: requests in /usr/local/lib/python3.7/dist-packages (from pytorch-transformers) (2.23.0)\n",
            "Requirement already satisfied: typing-extensions in /usr/local/lib/python3.7/dist-packages (from torch>=1.0.0->pytorch-transformers) (4.2.0)\n",
            "Requirement already satisfied: botocore<1.26.0,>=1.25.10 in /usr/local/lib/python3.7/dist-packages (from boto3->pytorch-transformers) (1.25.10)\n",
            "Requirement already satisfied: s3transfer<0.6.0,>=0.5.0 in /usr/local/lib/python3.7/dist-packages (from boto3->pytorch-transformers) (0.5.2)\n",
            "Requirement already satisfied: jmespath<2.0.0,>=0.7.1 in /usr/local/lib/python3.7/dist-packages (from boto3->pytorch-transformers) (1.0.0)\n",
            "Requirement already satisfied: python-dateutil<3.0.0,>=2.1 in /usr/local/lib/python3.7/dist-packages (from botocore<1.26.0,>=1.25.10->boto3->pytorch-transformers) (2.8.2)\n",
            "Requirement already satisfied: urllib3<1.27,>=1.25.4 in /usr/local/lib/python3.7/dist-packages (from botocore<1.26.0,>=1.25.10->boto3->pytorch-transformers) (1.25.11)\n",
            "Requirement already satisfied: six>=1.5 in /usr/local/lib/python3.7/dist-packages (from python-dateutil<3.0.0,>=2.1->botocore<1.26.0,>=1.25.10->boto3->pytorch-transformers) (1.15.0)\n",
            "Requirement already satisfied: chardet<4,>=3.0.2 in /usr/local/lib/python3.7/dist-packages (from requests->pytorch-transformers) (3.0.4)\n",
            "Requirement already satisfied: certifi>=2017.4.17 in /usr/local/lib/python3.7/dist-packages (from requests->pytorch-transformers) (2021.10.8)\n",
            "Requirement already satisfied: idna<3,>=2.5 in /usr/local/lib/python3.7/dist-packages (from requests->pytorch-transformers) (2.10)\n",
            "Requirement already satisfied: click in /usr/local/lib/python3.7/dist-packages (from sacremoses->pytorch-transformers) (7.1.2)\n",
            "Requirement already satisfied: joblib in /usr/local/lib/python3.7/dist-packages (from sacremoses->pytorch-transformers) (1.1.0)\n"
          ]
        }
      ],
      "source": [
        "!pip install pytorch-transformers"
      ]
    },
    {
      "cell_type": "code",
      "source": [
        "!pip install transformers"
      ],
      "metadata": {
        "id": "RUClZ5w5aVxA",
        "colab": {
          "base_uri": "https://localhost:8080/"
        },
        "outputId": "0f823ac9-2048-4599-ed5a-31e5c6634cfe"
      },
      "execution_count": null,
      "outputs": [
        {
          "output_type": "stream",
          "name": "stdout",
          "text": [
            "Requirement already satisfied: transformers in /usr/local/lib/python3.7/dist-packages (4.18.0)\n",
            "Requirement already satisfied: pyyaml>=5.1 in /usr/local/lib/python3.7/dist-packages (from transformers) (6.0)\n",
            "Requirement already satisfied: tokenizers!=0.11.3,<0.13,>=0.11.1 in /usr/local/lib/python3.7/dist-packages (from transformers) (0.12.1)\n",
            "Requirement already satisfied: tqdm>=4.27 in /usr/local/lib/python3.7/dist-packages (from transformers) (4.64.0)\n",
            "Requirement already satisfied: requests in /usr/local/lib/python3.7/dist-packages (from transformers) (2.23.0)\n",
            "Requirement already satisfied: filelock in /usr/local/lib/python3.7/dist-packages (from transformers) (3.6.0)\n",
            "Requirement already satisfied: numpy>=1.17 in /usr/local/lib/python3.7/dist-packages (from transformers) (1.21.6)\n",
            "Requirement already satisfied: importlib-metadata in /usr/local/lib/python3.7/dist-packages (from transformers) (4.11.3)\n",
            "Requirement already satisfied: huggingface-hub<1.0,>=0.1.0 in /usr/local/lib/python3.7/dist-packages (from transformers) (0.5.1)\n",
            "Requirement already satisfied: sacremoses in /usr/local/lib/python3.7/dist-packages (from transformers) (0.0.53)\n",
            "Requirement already satisfied: packaging>=20.0 in /usr/local/lib/python3.7/dist-packages (from transformers) (21.3)\n",
            "Requirement already satisfied: regex!=2019.12.17 in /usr/local/lib/python3.7/dist-packages (from transformers) (2019.12.20)\n",
            "Requirement already satisfied: typing-extensions>=3.7.4.3 in /usr/local/lib/python3.7/dist-packages (from huggingface-hub<1.0,>=0.1.0->transformers) (4.2.0)\n",
            "Requirement already satisfied: pyparsing!=3.0.5,>=2.0.2 in /usr/local/lib/python3.7/dist-packages (from packaging>=20.0->transformers) (3.0.8)\n",
            "Requirement already satisfied: zipp>=0.5 in /usr/local/lib/python3.7/dist-packages (from importlib-metadata->transformers) (3.8.0)\n",
            "Requirement already satisfied: chardet<4,>=3.0.2 in /usr/local/lib/python3.7/dist-packages (from requests->transformers) (3.0.4)\n",
            "Requirement already satisfied: urllib3!=1.25.0,!=1.25.1,<1.26,>=1.21.1 in /usr/local/lib/python3.7/dist-packages (from requests->transformers) (1.25.11)\n",
            "Requirement already satisfied: certifi>=2017.4.17 in /usr/local/lib/python3.7/dist-packages (from requests->transformers) (2021.10.8)\n",
            "Requirement already satisfied: idna<3,>=2.5 in /usr/local/lib/python3.7/dist-packages (from requests->transformers) (2.10)\n",
            "Requirement already satisfied: six in /usr/local/lib/python3.7/dist-packages (from sacremoses->transformers) (1.15.0)\n",
            "Requirement already satisfied: click in /usr/local/lib/python3.7/dist-packages (from sacremoses->transformers) (7.1.2)\n",
            "Requirement already satisfied: joblib in /usr/local/lib/python3.7/dist-packages (from sacremoses->transformers) (1.1.0)\n"
          ]
        }
      ]
    },
    {
      "cell_type": "code",
      "source": [
        "import numpy as np\n",
        "import pandas as pd\n",
        "import gc\n",
        "import torch\n",
        "from torch.utils.data import Dataset, DataLoader\n",
        "from pytorch_transformers import BertTokenizer, BertForSequenceClassification, BertConfig\n",
        "from torch.optim import Adam\n",
        "import torch.nn.functional as F\n",
        "from sklearn.metrics import accuracy_score, recall_score, precision_score, f1_score"
      ],
      "metadata": {
        "id": "nkxy-S4vSXQC"
      },
      "execution_count": null,
      "outputs": []
    },
    {
      "cell_type": "code",
      "source": [
        "gc.collect()\n",
        "torch.cuda.empty_cache()"
      ],
      "metadata": {
        "id": "joLcO0sBBmtB"
      },
      "execution_count": null,
      "outputs": []
    },
    {
      "cell_type": "code",
      "source": [
        "device = torch.device(\"cuda\")"
      ],
      "metadata": {
        "id": "qDmlXK68SXaP"
      },
      "execution_count": null,
      "outputs": []
    },
    {
      "cell_type": "code",
      "source": [
        "from google.colab import drive\n",
        "drive.mount('/content/drive')"
      ],
      "metadata": {
        "id": "1zXN99y8SXc0",
        "colab": {
          "base_uri": "https://localhost:8080/"
        },
        "outputId": "74f474bc-4fbd-4d3b-95b8-c6090e0c5ca1"
      },
      "execution_count": null,
      "outputs": [
        {
          "output_type": "stream",
          "name": "stdout",
          "text": [
            "Drive already mounted at /content/drive; to attempt to forcibly remount, call drive.mount(\"/content/drive\", force_remount=True).\n"
          ]
        }
      ]
    },
    {
      "cell_type": "markdown",
      "source": [
        "# Import Data"
      ],
      "metadata": {
        "id": "RB1Y9rWJnzAW"
      }
    },
    {
      "cell_type": "code",
      "source": [
        "report_data = pd.read_excel('/content/drive/MyDrive/ESG rating/ESG_Dataset_2018&2019.xlsx')"
      ],
      "metadata": {
        "id": "H118dlCBTmiD"
      },
      "execution_count": null,
      "outputs": []
    },
    {
      "cell_type": "code",
      "source": [
        "report_data"
      ],
      "metadata": {
        "id": "ULn7H78XmEiT",
        "colab": {
          "base_uri": "https://localhost:8080/",
          "height": 419
        },
        "outputId": "6d356e6c-ef5b-44a3-b9d0-e5760140506d"
      },
      "execution_count": null,
      "outputs": [
        {
          "output_type": "execute_result",
          "data": {
            "text/plain": [
              "      company_year                                               text E_label  \\\n",
              "0     BNK금융지주_2018  Facility (Store) (As of the first half of 2021...       B   \n",
              "1     BNK금융지주_2018  dustry, BGF Retail installed droplet barriers,...       B   \n",
              "2     BNK금융지주_2018  Life In addition to creating a physical and ps...       B   \n",
              "3     BNK금융지주_2018  processed food BGF Retail BGF Networks Hello N...       B   \n",
              "4     BNK금융지주_2018  Greenhouse Gas Emissions · Reducing Plastic/Di...       B   \n",
              "...            ...                                                ...     ...   \n",
              "2213     현대제철_2019  2020 76 Safety Inspection with Everyone's Part...      B+   \n",
              "2214     현대제철_2019  our stakeholders, Hyundai Steel strives to pro...      B+   \n",
              "2215     현대제철_2019  2019) Classification Environment: CO2 reductio...      B+   \n",
              "2216     현대제철_2019  from the Minister of Health and Welfare as an ...      B+   \n",
              "2217     현대제철_2019  drainage facility installed benefiting 115 hou...      B+   \n",
              "\n",
              "     S_label G_label ESG_label  E_rating  S_rating  G_rating  ESG_rating  \n",
              "0         B+     NaN        B+         1         1       NaN           1  \n",
              "1         B+     NaN        B+         1         1       NaN           1  \n",
              "2         B+     NaN        B+         1         1       NaN           1  \n",
              "3         B+     NaN        B+         1         1       NaN           1  \n",
              "4         B+     NaN        B+         1         1       NaN           1  \n",
              "...      ...     ...       ...       ...       ...       ...         ...  \n",
              "2213      A+      B+         A         1         0       1.0           0  \n",
              "2214      A+      B+         A         1         0       1.0           0  \n",
              "2215      A+      B+         A         1         0       1.0           0  \n",
              "2216      A+      B+         A         1         0       1.0           0  \n",
              "2217      A+      B+         A         1         0       1.0           0  \n",
              "\n",
              "[2218 rows x 10 columns]"
            ],
            "text/html": [
              "\n",
              "  <div id=\"df-d7c0733a-3490-48ca-b93c-806e5730f9f4\">\n",
              "    <div class=\"colab-df-container\">\n",
              "      <div>\n",
              "<style scoped>\n",
              "    .dataframe tbody tr th:only-of-type {\n",
              "        vertical-align: middle;\n",
              "    }\n",
              "\n",
              "    .dataframe tbody tr th {\n",
              "        vertical-align: top;\n",
              "    }\n",
              "\n",
              "    .dataframe thead th {\n",
              "        text-align: right;\n",
              "    }\n",
              "</style>\n",
              "<table border=\"1\" class=\"dataframe\">\n",
              "  <thead>\n",
              "    <tr style=\"text-align: right;\">\n",
              "      <th></th>\n",
              "      <th>company_year</th>\n",
              "      <th>text</th>\n",
              "      <th>E_label</th>\n",
              "      <th>S_label</th>\n",
              "      <th>G_label</th>\n",
              "      <th>ESG_label</th>\n",
              "      <th>E_rating</th>\n",
              "      <th>S_rating</th>\n",
              "      <th>G_rating</th>\n",
              "      <th>ESG_rating</th>\n",
              "    </tr>\n",
              "  </thead>\n",
              "  <tbody>\n",
              "    <tr>\n",
              "      <th>0</th>\n",
              "      <td>BNK금융지주_2018</td>\n",
              "      <td>Facility (Store) (As of the first half of 2021...</td>\n",
              "      <td>B</td>\n",
              "      <td>B+</td>\n",
              "      <td>NaN</td>\n",
              "      <td>B+</td>\n",
              "      <td>1</td>\n",
              "      <td>1</td>\n",
              "      <td>NaN</td>\n",
              "      <td>1</td>\n",
              "    </tr>\n",
              "    <tr>\n",
              "      <th>1</th>\n",
              "      <td>BNK금융지주_2018</td>\n",
              "      <td>dustry, BGF Retail installed droplet barriers,...</td>\n",
              "      <td>B</td>\n",
              "      <td>B+</td>\n",
              "      <td>NaN</td>\n",
              "      <td>B+</td>\n",
              "      <td>1</td>\n",
              "      <td>1</td>\n",
              "      <td>NaN</td>\n",
              "      <td>1</td>\n",
              "    </tr>\n",
              "    <tr>\n",
              "      <th>2</th>\n",
              "      <td>BNK금융지주_2018</td>\n",
              "      <td>Life In addition to creating a physical and ps...</td>\n",
              "      <td>B</td>\n",
              "      <td>B+</td>\n",
              "      <td>NaN</td>\n",
              "      <td>B+</td>\n",
              "      <td>1</td>\n",
              "      <td>1</td>\n",
              "      <td>NaN</td>\n",
              "      <td>1</td>\n",
              "    </tr>\n",
              "    <tr>\n",
              "      <th>3</th>\n",
              "      <td>BNK금융지주_2018</td>\n",
              "      <td>processed food BGF Retail BGF Networks Hello N...</td>\n",
              "      <td>B</td>\n",
              "      <td>B+</td>\n",
              "      <td>NaN</td>\n",
              "      <td>B+</td>\n",
              "      <td>1</td>\n",
              "      <td>1</td>\n",
              "      <td>NaN</td>\n",
              "      <td>1</td>\n",
              "    </tr>\n",
              "    <tr>\n",
              "      <th>4</th>\n",
              "      <td>BNK금융지주_2018</td>\n",
              "      <td>Greenhouse Gas Emissions · Reducing Plastic/Di...</td>\n",
              "      <td>B</td>\n",
              "      <td>B+</td>\n",
              "      <td>NaN</td>\n",
              "      <td>B+</td>\n",
              "      <td>1</td>\n",
              "      <td>1</td>\n",
              "      <td>NaN</td>\n",
              "      <td>1</td>\n",
              "    </tr>\n",
              "    <tr>\n",
              "      <th>...</th>\n",
              "      <td>...</td>\n",
              "      <td>...</td>\n",
              "      <td>...</td>\n",
              "      <td>...</td>\n",
              "      <td>...</td>\n",
              "      <td>...</td>\n",
              "      <td>...</td>\n",
              "      <td>...</td>\n",
              "      <td>...</td>\n",
              "      <td>...</td>\n",
              "    </tr>\n",
              "    <tr>\n",
              "      <th>2213</th>\n",
              "      <td>현대제철_2019</td>\n",
              "      <td>2020 76 Safety Inspection with Everyone's Part...</td>\n",
              "      <td>B+</td>\n",
              "      <td>A+</td>\n",
              "      <td>B+</td>\n",
              "      <td>A</td>\n",
              "      <td>1</td>\n",
              "      <td>0</td>\n",
              "      <td>1.0</td>\n",
              "      <td>0</td>\n",
              "    </tr>\n",
              "    <tr>\n",
              "      <th>2214</th>\n",
              "      <td>현대제철_2019</td>\n",
              "      <td>our stakeholders, Hyundai Steel strives to pro...</td>\n",
              "      <td>B+</td>\n",
              "      <td>A+</td>\n",
              "      <td>B+</td>\n",
              "      <td>A</td>\n",
              "      <td>1</td>\n",
              "      <td>0</td>\n",
              "      <td>1.0</td>\n",
              "      <td>0</td>\n",
              "    </tr>\n",
              "    <tr>\n",
              "      <th>2215</th>\n",
              "      <td>현대제철_2019</td>\n",
              "      <td>2019) Classification Environment: CO2 reductio...</td>\n",
              "      <td>B+</td>\n",
              "      <td>A+</td>\n",
              "      <td>B+</td>\n",
              "      <td>A</td>\n",
              "      <td>1</td>\n",
              "      <td>0</td>\n",
              "      <td>1.0</td>\n",
              "      <td>0</td>\n",
              "    </tr>\n",
              "    <tr>\n",
              "      <th>2216</th>\n",
              "      <td>현대제철_2019</td>\n",
              "      <td>from the Minister of Health and Welfare as an ...</td>\n",
              "      <td>B+</td>\n",
              "      <td>A+</td>\n",
              "      <td>B+</td>\n",
              "      <td>A</td>\n",
              "      <td>1</td>\n",
              "      <td>0</td>\n",
              "      <td>1.0</td>\n",
              "      <td>0</td>\n",
              "    </tr>\n",
              "    <tr>\n",
              "      <th>2217</th>\n",
              "      <td>현대제철_2019</td>\n",
              "      <td>drainage facility installed benefiting 115 hou...</td>\n",
              "      <td>B+</td>\n",
              "      <td>A+</td>\n",
              "      <td>B+</td>\n",
              "      <td>A</td>\n",
              "      <td>1</td>\n",
              "      <td>0</td>\n",
              "      <td>1.0</td>\n",
              "      <td>0</td>\n",
              "    </tr>\n",
              "  </tbody>\n",
              "</table>\n",
              "<p>2218 rows × 10 columns</p>\n",
              "</div>\n",
              "      <button class=\"colab-df-convert\" onclick=\"convertToInteractive('df-d7c0733a-3490-48ca-b93c-806e5730f9f4')\"\n",
              "              title=\"Convert this dataframe to an interactive table.\"\n",
              "              style=\"display:none;\">\n",
              "        \n",
              "  <svg xmlns=\"http://www.w3.org/2000/svg\" height=\"24px\"viewBox=\"0 0 24 24\"\n",
              "       width=\"24px\">\n",
              "    <path d=\"M0 0h24v24H0V0z\" fill=\"none\"/>\n",
              "    <path d=\"M18.56 5.44l.94 2.06.94-2.06 2.06-.94-2.06-.94-.94-2.06-.94 2.06-2.06.94zm-11 1L8.5 8.5l.94-2.06 2.06-.94-2.06-.94L8.5 2.5l-.94 2.06-2.06.94zm10 10l.94 2.06.94-2.06 2.06-.94-2.06-.94-.94-2.06-.94 2.06-2.06.94z\"/><path d=\"M17.41 7.96l-1.37-1.37c-.4-.4-.92-.59-1.43-.59-.52 0-1.04.2-1.43.59L10.3 9.45l-7.72 7.72c-.78.78-.78 2.05 0 2.83L4 21.41c.39.39.9.59 1.41.59.51 0 1.02-.2 1.41-.59l7.78-7.78 2.81-2.81c.8-.78.8-2.07 0-2.86zM5.41 20L4 18.59l7.72-7.72 1.47 1.35L5.41 20z\"/>\n",
              "  </svg>\n",
              "      </button>\n",
              "      \n",
              "  <style>\n",
              "    .colab-df-container {\n",
              "      display:flex;\n",
              "      flex-wrap:wrap;\n",
              "      gap: 12px;\n",
              "    }\n",
              "\n",
              "    .colab-df-convert {\n",
              "      background-color: #E8F0FE;\n",
              "      border: none;\n",
              "      border-radius: 50%;\n",
              "      cursor: pointer;\n",
              "      display: none;\n",
              "      fill: #1967D2;\n",
              "      height: 32px;\n",
              "      padding: 0 0 0 0;\n",
              "      width: 32px;\n",
              "    }\n",
              "\n",
              "    .colab-df-convert:hover {\n",
              "      background-color: #E2EBFA;\n",
              "      box-shadow: 0px 1px 2px rgba(60, 64, 67, 0.3), 0px 1px 3px 1px rgba(60, 64, 67, 0.15);\n",
              "      fill: #174EA6;\n",
              "    }\n",
              "\n",
              "    [theme=dark] .colab-df-convert {\n",
              "      background-color: #3B4455;\n",
              "      fill: #D2E3FC;\n",
              "    }\n",
              "\n",
              "    [theme=dark] .colab-df-convert:hover {\n",
              "      background-color: #434B5C;\n",
              "      box-shadow: 0px 1px 3px 1px rgba(0, 0, 0, 0.15);\n",
              "      filter: drop-shadow(0px 1px 2px rgba(0, 0, 0, 0.3));\n",
              "      fill: #FFFFFF;\n",
              "    }\n",
              "  </style>\n",
              "\n",
              "      <script>\n",
              "        const buttonEl =\n",
              "          document.querySelector('#df-d7c0733a-3490-48ca-b93c-806e5730f9f4 button.colab-df-convert');\n",
              "        buttonEl.style.display =\n",
              "          google.colab.kernel.accessAllowed ? 'block' : 'none';\n",
              "\n",
              "        async function convertToInteractive(key) {\n",
              "          const element = document.querySelector('#df-d7c0733a-3490-48ca-b93c-806e5730f9f4');\n",
              "          const dataTable =\n",
              "            await google.colab.kernel.invokeFunction('convertToInteractive',\n",
              "                                                     [key], {});\n",
              "          if (!dataTable) return;\n",
              "\n",
              "          const docLinkHtml = 'Like what you see? Visit the ' +\n",
              "            '<a target=\"_blank\" href=https://colab.research.google.com/notebooks/data_table.ipynb>data table notebook</a>'\n",
              "            + ' to learn more about interactive tables.';\n",
              "          element.innerHTML = '';\n",
              "          dataTable['output_type'] = 'display_data';\n",
              "          await google.colab.output.renderOutput(dataTable, element);\n",
              "          const docLink = document.createElement('div');\n",
              "          docLink.innerHTML = docLinkHtml;\n",
              "          element.appendChild(docLink);\n",
              "        }\n",
              "      </script>\n",
              "    </div>\n",
              "  </div>\n",
              "  "
            ]
          },
          "metadata": {},
          "execution_count": 8
        }
      ]
    },
    {
      "cell_type": "code",
      "source": [
        "report_data_ESG = report_data[['text', 'ESG_rating']]\n",
        "\n",
        "report_data_E = report_data[['text', 'E_rating']]\n",
        "report_data_S = report_data[['text', 'S_rating']]\n",
        "report_data_G = report_data[['text', 'G_rating']]\n",
        "\n",
        "report_data_ESG = report_data_ESG.dropna()\n",
        "report_data_E = report_data_E.dropna()\n",
        "report_data_S = report_data_S.dropna()\n",
        "report_data_G = report_data_G.dropna()\n",
        "\n",
        "\n",
        "report_data_ESG[\"ESG_rating\"] = report_data_ESG.ESG_rating.apply(int)\n",
        "report_data_E[\"E_rating\"] = report_data_E.E_rating.apply(int)\n",
        "report_data_S[\"S_rating\"] = report_data_S.S_rating.apply(int)\n",
        "report_data_G[\"G_rating\"] = report_data_G.G_rating.apply(int)\n"
      ],
      "metadata": {
        "id": "3XLikHjAU12x"
      },
      "execution_count": null,
      "outputs": []
    },
    {
      "cell_type": "code",
      "source": [
        "set(report_data_S[\"S_rating\"])"
      ],
      "metadata": {
        "colab": {
          "base_uri": "https://localhost:8080/"
        },
        "id": "UFzzcxkyKVeu",
        "outputId": "40c4c0fd-3fbe-4f9b-8792-260b05c7dea5"
      },
      "execution_count": null,
      "outputs": [
        {
          "output_type": "execute_result",
          "data": {
            "text/plain": [
              "{0, 1, 2}"
            ]
          },
          "metadata": {},
          "execution_count": 10
        }
      ]
    },
    {
      "cell_type": "code",
      "source": [
        "set(report_data_E[\"E_rating\"])"
      ],
      "metadata": {
        "colab": {
          "base_uri": "https://localhost:8080/"
        },
        "id": "pBO_NGL-KOCL",
        "outputId": "6eed5fd7-50ef-4f84-980d-3d6894c6b6b0"
      },
      "execution_count": null,
      "outputs": [
        {
          "output_type": "execute_result",
          "data": {
            "text/plain": [
              "{0, 1, 2, 3}"
            ]
          },
          "metadata": {},
          "execution_count": 11
        }
      ]
    },
    {
      "cell_type": "code",
      "source": [
        "print(\"Number of ESG rating data:\",len(report_data_ESG))\n",
        "print(\"Number of E rating data:\",len(report_data_E))\n",
        "print(\"Number of S rating data:\",len(report_data_S))\n",
        "print(\"Number of G rating data:\",len(report_data_G))"
      ],
      "metadata": {
        "colab": {
          "base_uri": "https://localhost:8080/"
        },
        "id": "8mIdyNS_nMaQ",
        "outputId": "f2f90bb8-0491-41fb-906f-a440ea661fb7"
      },
      "execution_count": null,
      "outputs": [
        {
          "output_type": "stream",
          "name": "stdout",
          "text": [
            "Number of ESG rating data: 2218\n",
            "Number of E rating data: 2218\n",
            "Number of S rating data: 2218\n",
            "Number of G rating data: 1780\n"
          ]
        }
      ]
    },
    {
      "cell_type": "code",
      "source": [
        "from sklearn.model_selection import train_test_split\n",
        "X_train_ESG, X_test_ESG, y_train_ESG, y_test_ESG = train_test_split(list(report_data_ESG['text']), list(report_data_ESG['ESG_rating']), test_size=0.3)\n",
        "X_train_E, X_test_E, y_train_E, y_test_E = train_test_split(list(report_data_E['text']), list(report_data_E['E_rating']), test_size=0.3)\n",
        "X_train_S, X_test_S, y_train_S, y_test_S = train_test_split(list(report_data_S['text']), list(report_data_S['S_rating']), test_size=0.3)\n",
        "X_train_G, X_test_G, y_train_G, y_test_G = train_test_split(list(report_data_G['text']), list(report_data_G['G_rating']), test_size=0.3)"
      ],
      "metadata": {
        "id": "7ibNHMIESXhY"
      },
      "execution_count": null,
      "outputs": []
    },
    {
      "cell_type": "code",
      "source": [
        "model_name = \"bert-base-uncased\"\n",
        "max_length = 512"
      ],
      "metadata": {
        "id": "LbSSSkHxZ69G"
      },
      "execution_count": null,
      "outputs": []
    },
    {
      "cell_type": "code",
      "source": [
        "from transformers import BertTokenizerFast\n",
        "tokenizer = BertTokenizerFast.from_pretrained(model_name, do_lower_case=True)"
      ],
      "metadata": {
        "id": "jUj1V6EzaHkO"
      },
      "execution_count": null,
      "outputs": []
    },
    {
      "cell_type": "markdown",
      "source": [
        "# Classification"
      ],
      "metadata": {
        "id": "X6u9d88-0D5o"
      }
    },
    {
      "cell_type": "code",
      "source": [
        "from transformers import BertTokenizerFast, BertForSequenceClassification"
      ],
      "metadata": {
        "id": "0F8cg7BAa4pE"
      },
      "execution_count": null,
      "outputs": []
    },
    {
      "cell_type": "code",
      "source": [
        "model = BertForSequenceClassification.from_pretrained(model_name, num_labels=3)\n",
        "model.cuda()\n",
        "\n",
        "from transformers import Trainer, TrainingArguments\n",
        "training_args = TrainingArguments(\n",
        "    output_dir=\"output\",\n",
        "    num_train_epochs = 3,\n",
        "    per_device_train_batch_size = 16,  # batch size per device during training\n",
        "    weight_decay = 0.01,               # strength of weight decay\n",
        "    load_best_model_at_end = True,\n",
        "    logging_steps = 50,\n",
        "    evaluation_strategy = \"steps\",\n",
        "    metric_for_best_model= \"accuracy\"\n",
        ")"
      ],
      "metadata": {
        "colab": {
          "base_uri": "https://localhost:8080/"
        },
        "id": "09Df5Uu6rhJF",
        "outputId": "b8cef977-3086-4bf9-efb9-1bedb6ec3663"
      },
      "execution_count": null,
      "outputs": [
        {
          "output_type": "stream",
          "name": "stderr",
          "text": [
            "Some weights of the model checkpoint at bert-base-uncased were not used when initializing BertForSequenceClassification: ['cls.predictions.transform.dense.weight', 'cls.predictions.transform.LayerNorm.weight', 'cls.predictions.bias', 'cls.predictions.decoder.weight', 'cls.seq_relationship.bias', 'cls.predictions.transform.LayerNorm.bias', 'cls.predictions.transform.dense.bias', 'cls.seq_relationship.weight']\n",
            "- This IS expected if you are initializing BertForSequenceClassification from the checkpoint of a model trained on another task or with another architecture (e.g. initializing a BertForSequenceClassification model from a BertForPreTraining model).\n",
            "- This IS NOT expected if you are initializing BertForSequenceClassification from the checkpoint of a model that you expect to be exactly identical (initializing a BertForSequenceClassification model from a BertForSequenceClassification model).\n",
            "Some weights of BertForSequenceClassification were not initialized from the model checkpoint at bert-base-uncased and are newly initialized: ['classifier.bias', 'classifier.weight']\n",
            "You should probably TRAIN this model on a down-stream task to be able to use it for predictions and inference.\n"
          ]
        }
      ]
    },
    {
      "cell_type": "code",
      "source": [
        "from sklearn.metrics import precision_recall_fscore_support\n",
        "\n",
        "def compute_metrics(pred):\n",
        "    labels = pred.label_ids\n",
        "    preds = pred.predictions.argmax(-1)\n",
        "    precision, recall, f1, _ = precision_recall_fscore_support(labels, preds, average='macro')\n",
        "    acc = accuracy_score(labels, preds)\n",
        "    return {\n",
        "        'accuracy': acc,\n",
        "        'f1': f1,\n",
        "        'precision': precision,\n",
        "        'recall': recall\n",
        "    }"
      ],
      "metadata": {
        "id": "i7AM7fi4rjm5"
      },
      "execution_count": null,
      "outputs": []
    },
    {
      "cell_type": "code",
      "source": [
        "class Dataset(torch.utils.data.Dataset):\n",
        "    def __init__(self, encodings, labels=None):\n",
        "        self.encodings = encodings\n",
        "        self.labels = labels\n",
        "\n",
        "    def __getitem__(self, idx):\n",
        "        item = {key: torch.tensor(val[idx]) for key, val in self.encodings.items()}\n",
        "        if self.labels:\n",
        "            item[\"labels\"] = torch.tensor(self.labels[idx])\n",
        "        return item\n",
        "\n",
        "    def __len__(self):\n",
        "        return len(self.encodings[\"input_ids\"])"
      ],
      "metadata": {
        "id": "5ZwWvqEvrlQo"
      },
      "execution_count": null,
      "outputs": []
    },
    {
      "cell_type": "markdown",
      "source": [
        "## ESG"
      ],
      "metadata": {
        "id": "ZuSWbH2KrBsX"
      }
    },
    {
      "cell_type": "markdown",
      "source": [
        "### Train"
      ],
      "metadata": {
        "id": "YmFYhSu0gL9R"
      }
    },
    {
      "cell_type": "code",
      "source": [
        "train_encodings_ESG = tokenizer(X_train_ESG, truncation=True, padding=True, max_length=max_length)\n",
        "test_encodings_ESG = tokenizer(X_test_ESG, truncation=True, padding=True, max_length=max_length)"
      ],
      "metadata": {
        "id": "jBF7nXEXN78U"
      },
      "execution_count": null,
      "outputs": []
    },
    {
      "cell_type": "code",
      "source": [
        "train_dataset_ESG = Dataset(train_encodings_ESG, y_train_ESG)\n",
        "val_dataset_ESG = Dataset(test_encodings_ESG, y_test_ESG)"
      ],
      "metadata": {
        "id": "jlwPLgRlN78W"
      },
      "execution_count": null,
      "outputs": []
    },
    {
      "cell_type": "code",
      "source": [
        "trainer_ESG = Trainer(\n",
        "    model=model,\n",
        "    eval_dataset=val_dataset_ESG,\n",
        "    args=training_args,\n",
        "    train_dataset=train_dataset_ESG,\n",
        "    compute_metrics=compute_metrics,\n",
        "    tokenizer=tokenizer\n",
        ")"
      ],
      "metadata": {
        "id": "KeDFRVMwN78W"
      },
      "execution_count": null,
      "outputs": []
    },
    {
      "cell_type": "code",
      "source": [
        "trainer_ESG.train()"
      ],
      "metadata": {
        "colab": {
          "base_uri": "https://localhost:8080/",
          "height": 862
        },
        "outputId": "6e47cd7e-ff41-4136-821a-9b0541c5029e",
        "id": "yuepc8bJN78X"
      },
      "execution_count": null,
      "outputs": [
        {
          "output_type": "stream",
          "name": "stderr",
          "text": [
            "/usr/local/lib/python3.7/dist-packages/transformers/optimization.py:309: FutureWarning: This implementation of AdamW is deprecated and will be removed in a future version. Use the PyTorch implementation torch.optim.AdamW instead, or set `no_deprecation_warning=True` to disable this warning\n",
            "  FutureWarning,\n",
            "***** Running training *****\n",
            "  Num examples = 1552\n",
            "  Num Epochs = 3\n",
            "  Instantaneous batch size per device = 16\n",
            "  Total train batch size (w. parallel, distributed & accumulation) = 16\n",
            "  Gradient Accumulation steps = 1\n",
            "  Total optimization steps = 291\n"
          ]
        },
        {
          "output_type": "display_data",
          "data": {
            "text/plain": [
              "<IPython.core.display.HTML object>"
            ],
            "text/html": [
              "\n",
              "    <div>\n",
              "      \n",
              "      <progress value='291' max='291' style='width:300px; height:20px; vertical-align: middle;'></progress>\n",
              "      [291/291 09:18, Epoch 3/3]\n",
              "    </div>\n",
              "    <table border=\"1\" class=\"dataframe\">\n",
              "  <thead>\n",
              " <tr style=\"text-align: left;\">\n",
              "      <th>Step</th>\n",
              "      <th>Training Loss</th>\n",
              "      <th>Validation Loss</th>\n",
              "      <th>Accuracy</th>\n",
              "      <th>F1</th>\n",
              "      <th>Precision</th>\n",
              "      <th>Recall</th>\n",
              "    </tr>\n",
              "  </thead>\n",
              "  <tbody>\n",
              "    <tr>\n",
              "      <td>50</td>\n",
              "      <td>0.754100</td>\n",
              "      <td>0.647241</td>\n",
              "      <td>0.648649</td>\n",
              "      <td>0.418564</td>\n",
              "      <td>0.428152</td>\n",
              "      <td>0.420471</td>\n",
              "    </tr>\n",
              "    <tr>\n",
              "      <td>100</td>\n",
              "      <td>0.594200</td>\n",
              "      <td>0.534586</td>\n",
              "      <td>0.755255</td>\n",
              "      <td>0.503289</td>\n",
              "      <td>0.500839</td>\n",
              "      <td>0.506989</td>\n",
              "    </tr>\n",
              "    <tr>\n",
              "      <td>150</td>\n",
              "      <td>0.453000</td>\n",
              "      <td>0.455893</td>\n",
              "      <td>0.791291</td>\n",
              "      <td>0.733736</td>\n",
              "      <td>0.704435</td>\n",
              "      <td>0.802921</td>\n",
              "    </tr>\n",
              "    <tr>\n",
              "      <td>200</td>\n",
              "      <td>0.360600</td>\n",
              "      <td>0.434538</td>\n",
              "      <td>0.797297</td>\n",
              "      <td>0.533091</td>\n",
              "      <td>0.533948</td>\n",
              "      <td>0.541301</td>\n",
              "    </tr>\n",
              "    <tr>\n",
              "      <td>250</td>\n",
              "      <td>0.211600</td>\n",
              "      <td>0.444537</td>\n",
              "      <td>0.813814</td>\n",
              "      <td>0.709416</td>\n",
              "      <td>0.763982</td>\n",
              "      <td>0.680565</td>\n",
              "    </tr>\n",
              "  </tbody>\n",
              "</table><p>"
            ]
          },
          "metadata": {}
        },
        {
          "output_type": "stream",
          "name": "stderr",
          "text": [
            "***** Running Evaluation *****\n",
            "  Num examples = 666\n",
            "  Batch size = 8\n",
            "/usr/local/lib/python3.7/dist-packages/sklearn/metrics/_classification.py:1318: UndefinedMetricWarning: Precision and F-score are ill-defined and being set to 0.0 in labels with no predicted samples. Use `zero_division` parameter to control this behavior.\n",
            "  _warn_prf(average, modifier, msg_start, len(result))\n",
            "***** Running Evaluation *****\n",
            "  Num examples = 666\n",
            "  Batch size = 8\n",
            "/usr/local/lib/python3.7/dist-packages/sklearn/metrics/_classification.py:1318: UndefinedMetricWarning: Precision and F-score are ill-defined and being set to 0.0 in labels with no predicted samples. Use `zero_division` parameter to control this behavior.\n",
            "  _warn_prf(average, modifier, msg_start, len(result))\n",
            "***** Running Evaluation *****\n",
            "  Num examples = 666\n",
            "  Batch size = 8\n",
            "***** Running Evaluation *****\n",
            "  Num examples = 666\n",
            "  Batch size = 8\n",
            "/usr/local/lib/python3.7/dist-packages/sklearn/metrics/_classification.py:1318: UndefinedMetricWarning: Precision and F-score are ill-defined and being set to 0.0 in labels with no predicted samples. Use `zero_division` parameter to control this behavior.\n",
            "  _warn_prf(average, modifier, msg_start, len(result))\n",
            "***** Running Evaluation *****\n",
            "  Num examples = 666\n",
            "  Batch size = 8\n",
            "\n",
            "\n",
            "Training completed. Do not forget to share your model on huggingface.co/models =)\n",
            "\n",
            "\n"
          ]
        },
        {
          "output_type": "execute_result",
          "data": {
            "text/plain": [
              "TrainOutput(global_step=291, training_loss=0.43779914567560674, metrics={'train_runtime': 559.567, 'train_samples_per_second': 8.321, 'train_steps_per_second': 0.52, 'total_flos': 1225056072941568.0, 'train_loss': 0.43779914567560674, 'epoch': 3.0})"
            ]
          },
          "metadata": {},
          "execution_count": 23
        }
      ]
    },
    {
      "cell_type": "code",
      "source": [
        "trainer_ESG.save_model(\"model_ESG\")"
      ],
      "metadata": {
        "id": "mOK1DneIa7Gi",
        "colab": {
          "base_uri": "https://localhost:8080/"
        },
        "outputId": "73ade0c8-6db8-4bcb-a19f-2461893201d0"
      },
      "execution_count": null,
      "outputs": [
        {
          "output_type": "stream",
          "name": "stderr",
          "text": [
            "Saving model checkpoint to model_ESG\n",
            "Configuration saved in model_ESG/config.json\n",
            "Model weights saved in model_ESG/pytorch_model.bin\n",
            "tokenizer config file saved in model_ESG/tokenizer_config.json\n",
            "Special tokens file saved in model_ESG/special_tokens_map.json\n"
          ]
        }
      ]
    },
    {
      "cell_type": "markdown",
      "source": [
        "### Predict"
      ],
      "metadata": {
        "id": "YMcaPMBfWBkj"
      }
    },
    {
      "cell_type": "code",
      "source": [
        "model_path = \"/content/drive/MyDrive/model_ESG\"\n",
        "model = BertForSequenceClassification.from_pretrained(model_path, num_labels=3)"
      ],
      "metadata": {
        "id": "1eyRQ0V_a7EQ",
        "colab": {
          "base_uri": "https://localhost:8080/"
        },
        "outputId": "97b94786-902a-460e-b2cc-71818fc05ccb"
      },
      "execution_count": null,
      "outputs": [
        {
          "output_type": "stream",
          "name": "stderr",
          "text": [
            "loading configuration file /content/drive/MyDrive/model_ESG/config.json\n",
            "Model config BertConfig {\n",
            "  \"_name_or_path\": \"bert-base-uncased\",\n",
            "  \"architectures\": [\n",
            "    \"BertForSequenceClassification\"\n",
            "  ],\n",
            "  \"attention_probs_dropout_prob\": 0.1,\n",
            "  \"classifier_dropout\": null,\n",
            "  \"gradient_checkpointing\": false,\n",
            "  \"hidden_act\": \"gelu\",\n",
            "  \"hidden_dropout_prob\": 0.1,\n",
            "  \"hidden_size\": 768,\n",
            "  \"id2label\": {\n",
            "    \"0\": \"LABEL_0\",\n",
            "    \"1\": \"LABEL_1\",\n",
            "    \"2\": \"LABEL_2\"\n",
            "  },\n",
            "  \"initializer_range\": 0.02,\n",
            "  \"intermediate_size\": 3072,\n",
            "  \"label2id\": {\n",
            "    \"LABEL_0\": 0,\n",
            "    \"LABEL_1\": 1,\n",
            "    \"LABEL_2\": 2\n",
            "  },\n",
            "  \"layer_norm_eps\": 1e-12,\n",
            "  \"max_position_embeddings\": 512,\n",
            "  \"model_type\": \"bert\",\n",
            "  \"num_attention_heads\": 12,\n",
            "  \"num_hidden_layers\": 12,\n",
            "  \"pad_token_id\": 0,\n",
            "  \"position_embedding_type\": \"absolute\",\n",
            "  \"problem_type\": \"single_label_classification\",\n",
            "  \"torch_dtype\": \"float32\",\n",
            "  \"transformers_version\": \"4.18.0\",\n",
            "  \"type_vocab_size\": 2,\n",
            "  \"use_cache\": true,\n",
            "  \"vocab_size\": 30522\n",
            "}\n",
            "\n",
            "loading weights file /content/drive/MyDrive/model_ESG/pytorch_model.bin\n",
            "All model checkpoint weights were used when initializing BertForSequenceClassification.\n",
            "\n",
            "All the weights of BertForSequenceClassification were initialized from the model checkpoint at /content/drive/MyDrive/model_ESG.\n",
            "If your task is similar to the task the model of the checkpoint was trained on, you can already use BertForSequenceClassification for predictions without further training.\n"
          ]
        }
      ]
    },
    {
      "cell_type": "code",
      "source": [
        "test_trainer = Trainer(model)"
      ],
      "metadata": {
        "colab": {
          "base_uri": "https://localhost:8080/"
        },
        "id": "sjKH-FuKVKSH",
        "outputId": "cc26ab84-e641-4263-93e8-0d5ac32d509a"
      },
      "execution_count": null,
      "outputs": [
        {
          "output_type": "stream",
          "name": "stderr",
          "text": [
            "No `TrainingArguments` passed, using `output_dir=tmp_trainer`.\n",
            "PyTorch: setting up devices\n",
            "The default value for the training argument `--report_to` will change in v5 (from all installed integrations to none). In v5, you will need to use `--report_to all` to get the same behavior as now. You should start updating your code and make this info disappear :-).\n"
          ]
        }
      ]
    },
    {
      "cell_type": "code",
      "source": [
        "test_data = pd.read_excel(\"/content/drive/MyDrive/ESG rating/ESG_Dataset_2020.xlsx\")"
      ],
      "metadata": {
        "id": "Xp9cbKd6Vbns"
      },
      "execution_count": null,
      "outputs": []
    },
    {
      "cell_type": "code",
      "source": [
        "X_test = list(test_data[\"text\"])\n",
        "X_test_tokenized = tokenizer(X_test, padding=True, truncation=True, max_length=512)"
      ],
      "metadata": {
        "id": "nNh4U5u-VmO1"
      },
      "execution_count": null,
      "outputs": []
    },
    {
      "cell_type": "code",
      "source": [
        "test_dataset = Dataset(X_test_tokenized)"
      ],
      "metadata": {
        "id": "lWUzcPYkVvsD"
      },
      "execution_count": null,
      "outputs": []
    },
    {
      "cell_type": "code",
      "source": [
        "# Make prediction\n",
        "raw_pred, _, _ = test_trainer.predict(test_dataset)\n",
        "\n",
        "# Preprocess raw predictions\n",
        "y_pred = np.argmax(raw_pred, axis=1)"
      ],
      "metadata": {
        "colab": {
          "base_uri": "https://localhost:8080/",
          "height": 88
        },
        "id": "azBJ2xClVNAS",
        "outputId": "898d697f-44d4-4418-f986-80f699e35a73"
      },
      "execution_count": null,
      "outputs": [
        {
          "output_type": "stream",
          "name": "stderr",
          "text": [
            "***** Running Prediction *****\n",
            "  Num examples = 1965\n",
            "  Batch size = 8\n"
          ]
        },
        {
          "output_type": "display_data",
          "data": {
            "text/plain": [
              "<IPython.core.display.HTML object>"
            ],
            "text/html": [
              "\n",
              "    <div>\n",
              "      \n",
              "      <progress value='246' max='246' style='width:300px; height:20px; vertical-align: middle;'></progress>\n",
              "      [246/246 01:06]\n",
              "    </div>\n",
              "    "
            ]
          },
          "metadata": {}
        }
      ]
    },
    {
      "cell_type": "code",
      "source": [
        "test_data[\"ESG_pred\"] = pd.DataFrame(y_pred)"
      ],
      "metadata": {
        "id": "Jx7qSqWOWGvs"
      },
      "execution_count": null,
      "outputs": []
    },
    {
      "cell_type": "markdown",
      "source": [
        "## E"
      ],
      "metadata": {
        "id": "uxSCGa8Wz69l"
      }
    },
    {
      "cell_type": "markdown",
      "source": [
        "### Train"
      ],
      "metadata": {
        "id": "F_s4GZiygP0k"
      }
    },
    {
      "cell_type": "code",
      "source": [
        "train_encodings_E = tokenizer(X_train_E, truncation=True, padding=True, max_length=max_length)\n",
        "test_encodings_E = tokenizer(X_test_E, truncation=True, padding=True, max_length=max_length)"
      ],
      "metadata": {
        "id": "LebpU4lNwGz6"
      },
      "execution_count": null,
      "outputs": []
    },
    {
      "cell_type": "code",
      "source": [
        "train_dataset_E = Dataset(train_encodings_E, y_train_E)\n",
        "val_dataset_E = Dataset(test_encodings_E, y_test_E)"
      ],
      "metadata": {
        "id": "RxaUOu_jwG0B"
      },
      "execution_count": null,
      "outputs": []
    },
    {
      "cell_type": "code",
      "source": [
        "trainer_E = Trainer(\n",
        "    model=model,\n",
        "    eval_dataset=val_dataset_E,\n",
        "    args=training_args,\n",
        "    train_dataset=train_dataset_E,\n",
        "    compute_metrics=compute_metrics,\n",
        "    tokenizer=tokenizer\n",
        ")"
      ],
      "metadata": {
        "id": "zHmDdVqbwG0C"
      },
      "execution_count": null,
      "outputs": []
    },
    {
      "cell_type": "code",
      "source": [
        "trainer_E.train()"
      ],
      "metadata": {
        "colab": {
          "base_uri": "https://localhost:8080/",
          "height": 828
        },
        "outputId": "c337ee8d-545d-4a7d-93c2-01d99bf7bc26",
        "id": "ocCUH-dPwG0C"
      },
      "execution_count": null,
      "outputs": [
        {
          "output_type": "stream",
          "name": "stderr",
          "text": [
            "/usr/local/lib/python3.7/dist-packages/transformers/optimization.py:309: FutureWarning: This implementation of AdamW is deprecated and will be removed in a future version. Use the PyTorch implementation torch.optim.AdamW instead, or set `no_deprecation_warning=True` to disable this warning\n",
            "  FutureWarning,\n",
            "***** Running training *****\n",
            "  Num examples = 1552\n",
            "  Num Epochs = 3\n",
            "  Instantaneous batch size per device = 16\n",
            "  Total train batch size (w. parallel, distributed & accumulation) = 16\n",
            "  Gradient Accumulation steps = 1\n",
            "  Total optimization steps = 291\n"
          ]
        },
        {
          "output_type": "display_data",
          "data": {
            "text/plain": [
              "<IPython.core.display.HTML object>"
            ],
            "text/html": [
              "\n",
              "    <div>\n",
              "      \n",
              "      <progress value='291' max='291' style='width:300px; height:20px; vertical-align: middle;'></progress>\n",
              "      [291/291 09:17, Epoch 3/3]\n",
              "    </div>\n",
              "    <table border=\"1\" class=\"dataframe\">\n",
              "  <thead>\n",
              " <tr style=\"text-align: left;\">\n",
              "      <th>Step</th>\n",
              "      <th>Training Loss</th>\n",
              "      <th>Validation Loss</th>\n",
              "      <th>Accuracy</th>\n",
              "      <th>F1</th>\n",
              "      <th>Precision</th>\n",
              "      <th>Recall</th>\n",
              "    </tr>\n",
              "  </thead>\n",
              "  <tbody>\n",
              "    <tr>\n",
              "      <td>50</td>\n",
              "      <td>0.978900</td>\n",
              "      <td>0.926327</td>\n",
              "      <td>0.555556</td>\n",
              "      <td>0.178571</td>\n",
              "      <td>0.138889</td>\n",
              "      <td>0.250000</td>\n",
              "    </tr>\n",
              "    <tr>\n",
              "      <td>100</td>\n",
              "      <td>0.748600</td>\n",
              "      <td>0.500163</td>\n",
              "      <td>0.831832</td>\n",
              "      <td>0.492691</td>\n",
              "      <td>0.661431</td>\n",
              "      <td>0.481759</td>\n",
              "    </tr>\n",
              "    <tr>\n",
              "      <td>150</td>\n",
              "      <td>0.386600</td>\n",
              "      <td>0.273223</td>\n",
              "      <td>0.890390</td>\n",
              "      <td>0.850511</td>\n",
              "      <td>0.939511</td>\n",
              "      <td>0.797471</td>\n",
              "    </tr>\n",
              "    <tr>\n",
              "      <td>200</td>\n",
              "      <td>0.236000</td>\n",
              "      <td>0.222553</td>\n",
              "      <td>0.909910</td>\n",
              "      <td>0.914130</td>\n",
              "      <td>0.926620</td>\n",
              "      <td>0.906687</td>\n",
              "    </tr>\n",
              "    <tr>\n",
              "      <td>250</td>\n",
              "      <td>0.192500</td>\n",
              "      <td>0.189058</td>\n",
              "      <td>0.917417</td>\n",
              "      <td>0.937097</td>\n",
              "      <td>0.953605</td>\n",
              "      <td>0.922141</td>\n",
              "    </tr>\n",
              "  </tbody>\n",
              "</table><p>"
            ]
          },
          "metadata": {}
        },
        {
          "output_type": "stream",
          "name": "stderr",
          "text": [
            "***** Running Evaluation *****\n",
            "  Num examples = 666\n",
            "  Batch size = 8\n",
            "/usr/local/lib/python3.7/dist-packages/sklearn/metrics/_classification.py:1318: UndefinedMetricWarning: Precision and F-score are ill-defined and being set to 0.0 in labels with no predicted samples. Use `zero_division` parameter to control this behavior.\n",
            "  _warn_prf(average, modifier, msg_start, len(result))\n",
            "***** Running Evaluation *****\n",
            "  Num examples = 666\n",
            "  Batch size = 8\n",
            "/usr/local/lib/python3.7/dist-packages/sklearn/metrics/_classification.py:1318: UndefinedMetricWarning: Precision and F-score are ill-defined and being set to 0.0 in labels with no predicted samples. Use `zero_division` parameter to control this behavior.\n",
            "  _warn_prf(average, modifier, msg_start, len(result))\n",
            "***** Running Evaluation *****\n",
            "  Num examples = 666\n",
            "  Batch size = 8\n",
            "***** Running Evaluation *****\n",
            "  Num examples = 666\n",
            "  Batch size = 8\n",
            "***** Running Evaluation *****\n",
            "  Num examples = 666\n",
            "  Batch size = 8\n",
            "\n",
            "\n",
            "Training completed. Do not forget to share your model on huggingface.co/models =)\n",
            "\n",
            "\n"
          ]
        },
        {
          "output_type": "execute_result",
          "data": {
            "text/plain": [
              "TrainOutput(global_step=291, training_loss=0.45230597073269874, metrics={'train_runtime': 558.5725, 'train_samples_per_second': 8.336, 'train_steps_per_second': 0.521, 'total_flos': 1225067072126976.0, 'train_loss': 0.45230597073269874, 'epoch': 3.0})"
            ]
          },
          "metadata": {},
          "execution_count": 23
        }
      ]
    },
    {
      "cell_type": "code",
      "source": [
        "trainer_E.save_model(\"model_E\")"
      ],
      "metadata": {
        "id": "qwGKMDsCa68t",
        "colab": {
          "base_uri": "https://localhost:8080/"
        },
        "outputId": "14e27a77-8c14-412b-ebc7-d14a00fc0889"
      },
      "execution_count": null,
      "outputs": [
        {
          "output_type": "stream",
          "name": "stderr",
          "text": [
            "Saving model checkpoint to model_E\n",
            "Configuration saved in model_E/config.json\n",
            "Model weights saved in model_E/pytorch_model.bin\n",
            "tokenizer config file saved in model_E/tokenizer_config.json\n",
            "Special tokens file saved in model_E/special_tokens_map.json\n"
          ]
        }
      ]
    },
    {
      "cell_type": "code",
      "source": [
        ""
      ],
      "metadata": {
        "id": "iyJ-oPYfa6zx"
      },
      "execution_count": null,
      "outputs": []
    },
    {
      "cell_type": "markdown",
      "source": [
        "### Predict"
      ],
      "metadata": {
        "id": "MT6HBNfqWh8K"
      }
    },
    {
      "cell_type": "code",
      "source": [
        "model_path = \"/content/drive/MyDrive/model_E\"\n",
        "model = BertForSequenceClassification.from_pretrained(model_path, num_labels=4)"
      ],
      "metadata": {
        "colab": {
          "base_uri": "https://localhost:8080/"
        },
        "outputId": "ba3ede08-e827-446e-feda-82442479966a",
        "id": "4nH8EXp9Wh8N"
      },
      "execution_count": null,
      "outputs": [
        {
          "output_type": "stream",
          "name": "stderr",
          "text": [
            "loading configuration file /content/drive/MyDrive/model_E/config.json\n",
            "Model config BertConfig {\n",
            "  \"_name_or_path\": \"bert-base-uncased\",\n",
            "  \"architectures\": [\n",
            "    \"BertForSequenceClassification\"\n",
            "  ],\n",
            "  \"attention_probs_dropout_prob\": 0.1,\n",
            "  \"classifier_dropout\": null,\n",
            "  \"gradient_checkpointing\": false,\n",
            "  \"hidden_act\": \"gelu\",\n",
            "  \"hidden_dropout_prob\": 0.1,\n",
            "  \"hidden_size\": 768,\n",
            "  \"id2label\": {\n",
            "    \"0\": \"LABEL_0\",\n",
            "    \"1\": \"LABEL_1\",\n",
            "    \"2\": \"LABEL_2\",\n",
            "    \"3\": \"LABEL_3\"\n",
            "  },\n",
            "  \"initializer_range\": 0.02,\n",
            "  \"intermediate_size\": 3072,\n",
            "  \"label2id\": {\n",
            "    \"LABEL_0\": 0,\n",
            "    \"LABEL_1\": 1,\n",
            "    \"LABEL_2\": 2,\n",
            "    \"LABEL_3\": 3\n",
            "  },\n",
            "  \"layer_norm_eps\": 1e-12,\n",
            "  \"max_position_embeddings\": 512,\n",
            "  \"model_type\": \"bert\",\n",
            "  \"num_attention_heads\": 12,\n",
            "  \"num_hidden_layers\": 12,\n",
            "  \"pad_token_id\": 0,\n",
            "  \"position_embedding_type\": \"absolute\",\n",
            "  \"problem_type\": \"single_label_classification\",\n",
            "  \"torch_dtype\": \"float32\",\n",
            "  \"transformers_version\": \"4.18.0\",\n",
            "  \"type_vocab_size\": 2,\n",
            "  \"use_cache\": true,\n",
            "  \"vocab_size\": 30522\n",
            "}\n",
            "\n",
            "loading weights file /content/drive/MyDrive/model_E/pytorch_model.bin\n",
            "All model checkpoint weights were used when initializing BertForSequenceClassification.\n",
            "\n",
            "All the weights of BertForSequenceClassification were initialized from the model checkpoint at /content/drive/MyDrive/model_E.\n",
            "If your task is similar to the task the model of the checkpoint was trained on, you can already use BertForSequenceClassification for predictions without further training.\n"
          ]
        }
      ]
    },
    {
      "cell_type": "code",
      "source": [
        "test_trainer = Trainer(model)"
      ],
      "metadata": {
        "colab": {
          "base_uri": "https://localhost:8080/"
        },
        "outputId": "08fa8cd3-97ca-4be3-c782-091b4828f10b",
        "id": "lkdHfT2bWh8P"
      },
      "execution_count": null,
      "outputs": [
        {
          "output_type": "stream",
          "name": "stderr",
          "text": [
            "No `TrainingArguments` passed, using `output_dir=tmp_trainer`.\n",
            "PyTorch: setting up devices\n",
            "The default value for the training argument `--report_to` will change in v5 (from all installed integrations to none). In v5, you will need to use `--report_to all` to get the same behavior as now. You should start updating your code and make this info disappear :-).\n"
          ]
        }
      ]
    },
    {
      "cell_type": "code",
      "source": [
        "# Make prediction\n",
        "raw_pred, _, _ = test_trainer.predict(test_dataset)\n",
        "\n",
        "# Preprocess raw predictions\n",
        "y_pred_E = np.argmax(raw_pred, axis=1)"
      ],
      "metadata": {
        "colab": {
          "base_uri": "https://localhost:8080/",
          "height": 88
        },
        "outputId": "0bf6d8cc-4ab4-4f04-d045-68fcf7c8c9a4",
        "id": "59f1ROTNWh8R"
      },
      "execution_count": null,
      "outputs": [
        {
          "output_type": "stream",
          "name": "stderr",
          "text": [
            "***** Running Prediction *****\n",
            "  Num examples = 1965\n",
            "  Batch size = 8\n"
          ]
        },
        {
          "output_type": "display_data",
          "data": {
            "text/plain": [
              "<IPython.core.display.HTML object>"
            ],
            "text/html": [
              "\n",
              "    <div>\n",
              "      \n",
              "      <progress value='246' max='246' style='width:300px; height:20px; vertical-align: middle;'></progress>\n",
              "      [246/246 01:06]\n",
              "    </div>\n",
              "    "
            ]
          },
          "metadata": {}
        }
      ]
    },
    {
      "cell_type": "code",
      "source": [
        "test_data[\"E_pred\"] = pd.DataFrame(y_pred_E)"
      ],
      "metadata": {
        "id": "oRZg14pDWh8R"
      },
      "execution_count": null,
      "outputs": []
    },
    {
      "cell_type": "code",
      "source": [
        "test_data"
      ],
      "metadata": {
        "colab": {
          "base_uri": "https://localhost:8080/",
          "height": 419
        },
        "id": "IQNuzkeXX_k4",
        "outputId": "752088d7-3aa7-4265-adb1-14b51c3d09a7"
      },
      "execution_count": null,
      "outputs": [
        {
          "output_type": "execute_result",
          "data": {
            "text/plain": [
              "     company_year                                               text E_label  \\\n",
              "0     BGF리테일_2020  Facility (Store) (As of the first half of 2021...      B+   \n",
              "1     BGF리테일_2020  dustry, BGF Retail installed droplet barriers,...      B+   \n",
              "2     BGF리테일_2020  Life In addition to creating a physical and ps...      B+   \n",
              "3     BGF리테일_2020  processed food BGF Retail BGF Networks Hello N...      B+   \n",
              "4     BGF리테일_2020  Greenhouse Gas Emissions · Reducing Plastic/Di...      B+   \n",
              "...           ...                                                ...     ...   \n",
              "1960      효성_2020  related legal standards. Category Unit Hyosung...       A   \n",
              "1961      효성_2020  - Subtotal tCO₂eq 546,521 545,248 563,018 GHGs...       A   \n",
              "1962      효성_2020  has established a policy to encourage green pr...       A   \n",
              "1963      효성_2020  151,110 70 Yongyeon 2 Increasing Water Pump Ef...       A   \n",
              "1964      효성_2020  risks from processes exposed to toxic substanc...       A   \n",
              "\n",
              "     S_label G_label ESG_label  E_rating  S_rating  G_rating  ESG_rating  \\\n",
              "0         B+       A         A         1         1       0.0           0   \n",
              "1         B+       A         A         1         1       0.0           0   \n",
              "2         B+       A         A         1         1       0.0           0   \n",
              "3         B+       A         A         1         1       0.0           0   \n",
              "4         B+       A         A         1         1       0.0           0   \n",
              "...      ...     ...       ...       ...       ...       ...         ...   \n",
              "1960      A+      B+         A         0         0       1.0           0   \n",
              "1961      A+      B+         A         0         0       1.0           0   \n",
              "1962      A+      B+         A         0         0       1.0           0   \n",
              "1963      A+      B+         A         0         0       1.0           0   \n",
              "1964      A+      B+         A         0         0       1.0           0   \n",
              "\n",
              "      ESG_pred  E_pred  \n",
              "0            1       1  \n",
              "1            1       1  \n",
              "2            1       1  \n",
              "3            1       1  \n",
              "4            1       1  \n",
              "...        ...     ...  \n",
              "1960         1       3  \n",
              "1961         0       0  \n",
              "1962         0       1  \n",
              "1963         1       1  \n",
              "1964         0       1  \n",
              "\n",
              "[1965 rows x 12 columns]"
            ],
            "text/html": [
              "\n",
              "  <div id=\"df-46040e09-23f6-49d9-9e29-2e2267fb9b14\">\n",
              "    <div class=\"colab-df-container\">\n",
              "      <div>\n",
              "<style scoped>\n",
              "    .dataframe tbody tr th:only-of-type {\n",
              "        vertical-align: middle;\n",
              "    }\n",
              "\n",
              "    .dataframe tbody tr th {\n",
              "        vertical-align: top;\n",
              "    }\n",
              "\n",
              "    .dataframe thead th {\n",
              "        text-align: right;\n",
              "    }\n",
              "</style>\n",
              "<table border=\"1\" class=\"dataframe\">\n",
              "  <thead>\n",
              "    <tr style=\"text-align: right;\">\n",
              "      <th></th>\n",
              "      <th>company_year</th>\n",
              "      <th>text</th>\n",
              "      <th>E_label</th>\n",
              "      <th>S_label</th>\n",
              "      <th>G_label</th>\n",
              "      <th>ESG_label</th>\n",
              "      <th>E_rating</th>\n",
              "      <th>S_rating</th>\n",
              "      <th>G_rating</th>\n",
              "      <th>ESG_rating</th>\n",
              "      <th>ESG_pred</th>\n",
              "      <th>E_pred</th>\n",
              "    </tr>\n",
              "  </thead>\n",
              "  <tbody>\n",
              "    <tr>\n",
              "      <th>0</th>\n",
              "      <td>BGF리테일_2020</td>\n",
              "      <td>Facility (Store) (As of the first half of 2021...</td>\n",
              "      <td>B+</td>\n",
              "      <td>B+</td>\n",
              "      <td>A</td>\n",
              "      <td>A</td>\n",
              "      <td>1</td>\n",
              "      <td>1</td>\n",
              "      <td>0.0</td>\n",
              "      <td>0</td>\n",
              "      <td>1</td>\n",
              "      <td>1</td>\n",
              "    </tr>\n",
              "    <tr>\n",
              "      <th>1</th>\n",
              "      <td>BGF리테일_2020</td>\n",
              "      <td>dustry, BGF Retail installed droplet barriers,...</td>\n",
              "      <td>B+</td>\n",
              "      <td>B+</td>\n",
              "      <td>A</td>\n",
              "      <td>A</td>\n",
              "      <td>1</td>\n",
              "      <td>1</td>\n",
              "      <td>0.0</td>\n",
              "      <td>0</td>\n",
              "      <td>1</td>\n",
              "      <td>1</td>\n",
              "    </tr>\n",
              "    <tr>\n",
              "      <th>2</th>\n",
              "      <td>BGF리테일_2020</td>\n",
              "      <td>Life In addition to creating a physical and ps...</td>\n",
              "      <td>B+</td>\n",
              "      <td>B+</td>\n",
              "      <td>A</td>\n",
              "      <td>A</td>\n",
              "      <td>1</td>\n",
              "      <td>1</td>\n",
              "      <td>0.0</td>\n",
              "      <td>0</td>\n",
              "      <td>1</td>\n",
              "      <td>1</td>\n",
              "    </tr>\n",
              "    <tr>\n",
              "      <th>3</th>\n",
              "      <td>BGF리테일_2020</td>\n",
              "      <td>processed food BGF Retail BGF Networks Hello N...</td>\n",
              "      <td>B+</td>\n",
              "      <td>B+</td>\n",
              "      <td>A</td>\n",
              "      <td>A</td>\n",
              "      <td>1</td>\n",
              "      <td>1</td>\n",
              "      <td>0.0</td>\n",
              "      <td>0</td>\n",
              "      <td>1</td>\n",
              "      <td>1</td>\n",
              "    </tr>\n",
              "    <tr>\n",
              "      <th>4</th>\n",
              "      <td>BGF리테일_2020</td>\n",
              "      <td>Greenhouse Gas Emissions · Reducing Plastic/Di...</td>\n",
              "      <td>B+</td>\n",
              "      <td>B+</td>\n",
              "      <td>A</td>\n",
              "      <td>A</td>\n",
              "      <td>1</td>\n",
              "      <td>1</td>\n",
              "      <td>0.0</td>\n",
              "      <td>0</td>\n",
              "      <td>1</td>\n",
              "      <td>1</td>\n",
              "    </tr>\n",
              "    <tr>\n",
              "      <th>...</th>\n",
              "      <td>...</td>\n",
              "      <td>...</td>\n",
              "      <td>...</td>\n",
              "      <td>...</td>\n",
              "      <td>...</td>\n",
              "      <td>...</td>\n",
              "      <td>...</td>\n",
              "      <td>...</td>\n",
              "      <td>...</td>\n",
              "      <td>...</td>\n",
              "      <td>...</td>\n",
              "      <td>...</td>\n",
              "    </tr>\n",
              "    <tr>\n",
              "      <th>1960</th>\n",
              "      <td>효성_2020</td>\n",
              "      <td>related legal standards. Category Unit Hyosung...</td>\n",
              "      <td>A</td>\n",
              "      <td>A+</td>\n",
              "      <td>B+</td>\n",
              "      <td>A</td>\n",
              "      <td>0</td>\n",
              "      <td>0</td>\n",
              "      <td>1.0</td>\n",
              "      <td>0</td>\n",
              "      <td>1</td>\n",
              "      <td>3</td>\n",
              "    </tr>\n",
              "    <tr>\n",
              "      <th>1961</th>\n",
              "      <td>효성_2020</td>\n",
              "      <td>- Subtotal tCO₂eq 546,521 545,248 563,018 GHGs...</td>\n",
              "      <td>A</td>\n",
              "      <td>A+</td>\n",
              "      <td>B+</td>\n",
              "      <td>A</td>\n",
              "      <td>0</td>\n",
              "      <td>0</td>\n",
              "      <td>1.0</td>\n",
              "      <td>0</td>\n",
              "      <td>0</td>\n",
              "      <td>0</td>\n",
              "    </tr>\n",
              "    <tr>\n",
              "      <th>1962</th>\n",
              "      <td>효성_2020</td>\n",
              "      <td>has established a policy to encourage green pr...</td>\n",
              "      <td>A</td>\n",
              "      <td>A+</td>\n",
              "      <td>B+</td>\n",
              "      <td>A</td>\n",
              "      <td>0</td>\n",
              "      <td>0</td>\n",
              "      <td>1.0</td>\n",
              "      <td>0</td>\n",
              "      <td>0</td>\n",
              "      <td>1</td>\n",
              "    </tr>\n",
              "    <tr>\n",
              "      <th>1963</th>\n",
              "      <td>효성_2020</td>\n",
              "      <td>151,110 70 Yongyeon 2 Increasing Water Pump Ef...</td>\n",
              "      <td>A</td>\n",
              "      <td>A+</td>\n",
              "      <td>B+</td>\n",
              "      <td>A</td>\n",
              "      <td>0</td>\n",
              "      <td>0</td>\n",
              "      <td>1.0</td>\n",
              "      <td>0</td>\n",
              "      <td>1</td>\n",
              "      <td>1</td>\n",
              "    </tr>\n",
              "    <tr>\n",
              "      <th>1964</th>\n",
              "      <td>효성_2020</td>\n",
              "      <td>risks from processes exposed to toxic substanc...</td>\n",
              "      <td>A</td>\n",
              "      <td>A+</td>\n",
              "      <td>B+</td>\n",
              "      <td>A</td>\n",
              "      <td>0</td>\n",
              "      <td>0</td>\n",
              "      <td>1.0</td>\n",
              "      <td>0</td>\n",
              "      <td>0</td>\n",
              "      <td>1</td>\n",
              "    </tr>\n",
              "  </tbody>\n",
              "</table>\n",
              "<p>1965 rows × 12 columns</p>\n",
              "</div>\n",
              "      <button class=\"colab-df-convert\" onclick=\"convertToInteractive('df-46040e09-23f6-49d9-9e29-2e2267fb9b14')\"\n",
              "              title=\"Convert this dataframe to an interactive table.\"\n",
              "              style=\"display:none;\">\n",
              "        \n",
              "  <svg xmlns=\"http://www.w3.org/2000/svg\" height=\"24px\"viewBox=\"0 0 24 24\"\n",
              "       width=\"24px\">\n",
              "    <path d=\"M0 0h24v24H0V0z\" fill=\"none\"/>\n",
              "    <path d=\"M18.56 5.44l.94 2.06.94-2.06 2.06-.94-2.06-.94-.94-2.06-.94 2.06-2.06.94zm-11 1L8.5 8.5l.94-2.06 2.06-.94-2.06-.94L8.5 2.5l-.94 2.06-2.06.94zm10 10l.94 2.06.94-2.06 2.06-.94-2.06-.94-.94-2.06-.94 2.06-2.06.94z\"/><path d=\"M17.41 7.96l-1.37-1.37c-.4-.4-.92-.59-1.43-.59-.52 0-1.04.2-1.43.59L10.3 9.45l-7.72 7.72c-.78.78-.78 2.05 0 2.83L4 21.41c.39.39.9.59 1.41.59.51 0 1.02-.2 1.41-.59l7.78-7.78 2.81-2.81c.8-.78.8-2.07 0-2.86zM5.41 20L4 18.59l7.72-7.72 1.47 1.35L5.41 20z\"/>\n",
              "  </svg>\n",
              "      </button>\n",
              "      \n",
              "  <style>\n",
              "    .colab-df-container {\n",
              "      display:flex;\n",
              "      flex-wrap:wrap;\n",
              "      gap: 12px;\n",
              "    }\n",
              "\n",
              "    .colab-df-convert {\n",
              "      background-color: #E8F0FE;\n",
              "      border: none;\n",
              "      border-radius: 50%;\n",
              "      cursor: pointer;\n",
              "      display: none;\n",
              "      fill: #1967D2;\n",
              "      height: 32px;\n",
              "      padding: 0 0 0 0;\n",
              "      width: 32px;\n",
              "    }\n",
              "\n",
              "    .colab-df-convert:hover {\n",
              "      background-color: #E2EBFA;\n",
              "      box-shadow: 0px 1px 2px rgba(60, 64, 67, 0.3), 0px 1px 3px 1px rgba(60, 64, 67, 0.15);\n",
              "      fill: #174EA6;\n",
              "    }\n",
              "\n",
              "    [theme=dark] .colab-df-convert {\n",
              "      background-color: #3B4455;\n",
              "      fill: #D2E3FC;\n",
              "    }\n",
              "\n",
              "    [theme=dark] .colab-df-convert:hover {\n",
              "      background-color: #434B5C;\n",
              "      box-shadow: 0px 1px 3px 1px rgba(0, 0, 0, 0.15);\n",
              "      filter: drop-shadow(0px 1px 2px rgba(0, 0, 0, 0.3));\n",
              "      fill: #FFFFFF;\n",
              "    }\n",
              "  </style>\n",
              "\n",
              "      <script>\n",
              "        const buttonEl =\n",
              "          document.querySelector('#df-46040e09-23f6-49d9-9e29-2e2267fb9b14 button.colab-df-convert');\n",
              "        buttonEl.style.display =\n",
              "          google.colab.kernel.accessAllowed ? 'block' : 'none';\n",
              "\n",
              "        async function convertToInteractive(key) {\n",
              "          const element = document.querySelector('#df-46040e09-23f6-49d9-9e29-2e2267fb9b14');\n",
              "          const dataTable =\n",
              "            await google.colab.kernel.invokeFunction('convertToInteractive',\n",
              "                                                     [key], {});\n",
              "          if (!dataTable) return;\n",
              "\n",
              "          const docLinkHtml = 'Like what you see? Visit the ' +\n",
              "            '<a target=\"_blank\" href=https://colab.research.google.com/notebooks/data_table.ipynb>data table notebook</a>'\n",
              "            + ' to learn more about interactive tables.';\n",
              "          element.innerHTML = '';\n",
              "          dataTable['output_type'] = 'display_data';\n",
              "          await google.colab.output.renderOutput(dataTable, element);\n",
              "          const docLink = document.createElement('div');\n",
              "          docLink.innerHTML = docLinkHtml;\n",
              "          element.appendChild(docLink);\n",
              "        }\n",
              "      </script>\n",
              "    </div>\n",
              "  </div>\n",
              "  "
            ]
          },
          "metadata": {},
          "execution_count": 86
        }
      ]
    },
    {
      "cell_type": "markdown",
      "source": [
        "## S"
      ],
      "metadata": {
        "id": "hCsxZwD_6CmS"
      }
    },
    {
      "cell_type": "markdown",
      "source": [
        "### Train"
      ],
      "metadata": {
        "id": "GUv1m6CfgVRO"
      }
    },
    {
      "cell_type": "code",
      "source": [
        "train_encodings_S = tokenizer(X_train_S, truncation=True, padding=True, max_length=max_length)\n",
        "test_encodings_S = tokenizer(X_test_S, truncation=True, padding=True, max_length=max_length)"
      ],
      "metadata": {
        "id": "zH7dabP0wH9Q"
      },
      "execution_count": null,
      "outputs": []
    },
    {
      "cell_type": "code",
      "source": [
        "train_dataset_S = Dataset(train_encodings_S, y_train_S)\n",
        "val_dataset_S = Dataset(test_encodings_S, y_test_S)"
      ],
      "metadata": {
        "id": "DqbYZDKYwH9W"
      },
      "execution_count": null,
      "outputs": []
    },
    {
      "cell_type": "code",
      "source": [
        "trainer_S = Trainer(\n",
        "    model=model,\n",
        "    eval_dataset=val_dataset_S,\n",
        "    args=training_args,\n",
        "    train_dataset=train_dataset_S,\n",
        "    compute_metrics=compute_metrics,\n",
        "    tokenizer=tokenizer\n",
        ")"
      ],
      "metadata": {
        "id": "I7II1Bm6wH9X"
      },
      "execution_count": null,
      "outputs": []
    },
    {
      "cell_type": "code",
      "source": [
        "trainer_S.train()"
      ],
      "metadata": {
        "colab": {
          "base_uri": "https://localhost:8080/",
          "height": 930
        },
        "outputId": "1aff29b9-a605-4f1f-ddc6-8e7b438c42d8",
        "id": "q4DevYyswH9Y"
      },
      "execution_count": null,
      "outputs": [
        {
          "output_type": "stream",
          "name": "stderr",
          "text": [
            "/usr/local/lib/python3.7/dist-packages/transformers/optimization.py:309: FutureWarning: This implementation of AdamW is deprecated and will be removed in a future version. Use the PyTorch implementation torch.optim.AdamW instead, or set `no_deprecation_warning=True` to disable this warning\n",
            "  FutureWarning,\n",
            "***** Running training *****\n",
            "  Num examples = 1552\n",
            "  Num Epochs = 3\n",
            "  Instantaneous batch size per device = 16\n",
            "  Total train batch size (w. parallel, distributed & accumulation) = 16\n",
            "  Gradient Accumulation steps = 1\n",
            "  Total optimization steps = 291\n"
          ]
        },
        {
          "output_type": "display_data",
          "data": {
            "text/plain": [
              "<IPython.core.display.HTML object>"
            ],
            "text/html": [
              "\n",
              "    <div>\n",
              "      \n",
              "      <progress value='291' max='291' style='width:300px; height:20px; vertical-align: middle;'></progress>\n",
              "      [291/291 09:06, Epoch 3/3]\n",
              "    </div>\n",
              "    <table border=\"1\" class=\"dataframe\">\n",
              "  <thead>\n",
              " <tr style=\"text-align: left;\">\n",
              "      <th>Step</th>\n",
              "      <th>Training Loss</th>\n",
              "      <th>Validation Loss</th>\n",
              "      <th>Accuracy</th>\n",
              "      <th>F1</th>\n",
              "      <th>Precision</th>\n",
              "      <th>Recall</th>\n",
              "    </tr>\n",
              "  </thead>\n",
              "  <tbody>\n",
              "    <tr>\n",
              "      <td>50</td>\n",
              "      <td>0.617500</td>\n",
              "      <td>0.541366</td>\n",
              "      <td>0.788288</td>\n",
              "      <td>0.293871</td>\n",
              "      <td>0.262763</td>\n",
              "      <td>0.333333</td>\n",
              "    </tr>\n",
              "    <tr>\n",
              "      <td>100</td>\n",
              "      <td>0.461800</td>\n",
              "      <td>0.366368</td>\n",
              "      <td>0.839339</td>\n",
              "      <td>0.465601</td>\n",
              "      <td>0.518430</td>\n",
              "      <td>0.447540</td>\n",
              "    </tr>\n",
              "    <tr>\n",
              "      <td>150</td>\n",
              "      <td>0.338200</td>\n",
              "      <td>0.300883</td>\n",
              "      <td>0.852853</td>\n",
              "      <td>0.534372</td>\n",
              "      <td>0.517384</td>\n",
              "      <td>0.564034</td>\n",
              "    </tr>\n",
              "    <tr>\n",
              "      <td>200</td>\n",
              "      <td>0.251000</td>\n",
              "      <td>0.273634</td>\n",
              "      <td>0.857357</td>\n",
              "      <td>0.539409</td>\n",
              "      <td>0.522734</td>\n",
              "      <td>0.565938</td>\n",
              "    </tr>\n",
              "    <tr>\n",
              "      <td>250</td>\n",
              "      <td>0.178900</td>\n",
              "      <td>0.359194</td>\n",
              "      <td>0.875375</td>\n",
              "      <td>0.537901</td>\n",
              "      <td>0.548144</td>\n",
              "      <td>0.529972</td>\n",
              "    </tr>\n",
              "  </tbody>\n",
              "</table><p>"
            ]
          },
          "metadata": {}
        },
        {
          "output_type": "stream",
          "name": "stderr",
          "text": [
            "***** Running Evaluation *****\n",
            "  Num examples = 666\n",
            "  Batch size = 8\n",
            "/usr/local/lib/python3.7/dist-packages/sklearn/metrics/_classification.py:1318: UndefinedMetricWarning: Precision and F-score are ill-defined and being set to 0.0 in labels with no predicted samples. Use `zero_division` parameter to control this behavior.\n",
            "  _warn_prf(average, modifier, msg_start, len(result))\n",
            "***** Running Evaluation *****\n",
            "  Num examples = 666\n",
            "  Batch size = 8\n",
            "/usr/local/lib/python3.7/dist-packages/sklearn/metrics/_classification.py:1318: UndefinedMetricWarning: Precision and F-score are ill-defined and being set to 0.0 in labels with no predicted samples. Use `zero_division` parameter to control this behavior.\n",
            "  _warn_prf(average, modifier, msg_start, len(result))\n",
            "***** Running Evaluation *****\n",
            "  Num examples = 666\n",
            "  Batch size = 8\n",
            "/usr/local/lib/python3.7/dist-packages/sklearn/metrics/_classification.py:1318: UndefinedMetricWarning: Precision and F-score are ill-defined and being set to 0.0 in labels with no predicted samples. Use `zero_division` parameter to control this behavior.\n",
            "  _warn_prf(average, modifier, msg_start, len(result))\n",
            "***** Running Evaluation *****\n",
            "  Num examples = 666\n",
            "  Batch size = 8\n",
            "/usr/local/lib/python3.7/dist-packages/sklearn/metrics/_classification.py:1318: UndefinedMetricWarning: Precision and F-score are ill-defined and being set to 0.0 in labels with no predicted samples. Use `zero_division` parameter to control this behavior.\n",
            "  _warn_prf(average, modifier, msg_start, len(result))\n",
            "***** Running Evaluation *****\n",
            "  Num examples = 666\n",
            "  Batch size = 8\n",
            "/usr/local/lib/python3.7/dist-packages/sklearn/metrics/_classification.py:1318: UndefinedMetricWarning: Precision and F-score are ill-defined and being set to 0.0 in labels with no predicted samples. Use `zero_division` parameter to control this behavior.\n",
            "  _warn_prf(average, modifier, msg_start, len(result))\n",
            "\n",
            "\n",
            "Training completed. Do not forget to share your model on huggingface.co/models =)\n",
            "\n",
            "\n"
          ]
        },
        {
          "output_type": "execute_result",
          "data": {
            "text/plain": [
              "TrainOutput(global_step=291, training_loss=0.3384683550018625, metrics={'train_runtime': 548.0305, 'train_samples_per_second': 8.496, 'train_steps_per_second': 0.531, 'total_flos': 1225056072941568.0, 'train_loss': 0.3384683550018625, 'epoch': 3.0})"
            ]
          },
          "metadata": {},
          "execution_count": 21
        }
      ]
    },
    {
      "cell_type": "code",
      "source": [
        "trainer_S.save_model(\"model_S\")"
      ],
      "metadata": {
        "colab": {
          "base_uri": "https://localhost:8080/"
        },
        "id": "c4NPNY9YI3a7",
        "outputId": "2aaf3b8d-e74a-4ec1-fc4d-b23f7fce3de7"
      },
      "execution_count": null,
      "outputs": [
        {
          "output_type": "stream",
          "name": "stderr",
          "text": [
            "Saving model checkpoint to model_S\n",
            "Configuration saved in model_S/config.json\n",
            "Model weights saved in model_S/pytorch_model.bin\n",
            "tokenizer config file saved in model_S/tokenizer_config.json\n",
            "Special tokens file saved in model_S/special_tokens_map.json\n"
          ]
        }
      ]
    },
    {
      "cell_type": "code",
      "source": [
        ""
      ],
      "metadata": {
        "id": "N49vuW0zI3PO"
      },
      "execution_count": null,
      "outputs": []
    },
    {
      "cell_type": "markdown",
      "source": [
        "### Predict"
      ],
      "metadata": {
        "id": "BWg9r0q1Ws8F"
      }
    },
    {
      "cell_type": "code",
      "source": [
        "model_path = \"/content/drive/MyDrive/model_S\"\n",
        "model = BertForSequenceClassification.from_pretrained(model_path, num_labels=3)"
      ],
      "metadata": {
        "colab": {
          "base_uri": "https://localhost:8080/"
        },
        "outputId": "05b52a7e-be3a-4dc6-c266-9666abaa8eee",
        "id": "aYEBIPhOWs8J"
      },
      "execution_count": null,
      "outputs": [
        {
          "output_type": "stream",
          "name": "stderr",
          "text": [
            "loading configuration file /content/drive/MyDrive/model_S/config.json\n",
            "Model config BertConfig {\n",
            "  \"_name_or_path\": \"bert-base-uncased\",\n",
            "  \"architectures\": [\n",
            "    \"BertForSequenceClassification\"\n",
            "  ],\n",
            "  \"attention_probs_dropout_prob\": 0.1,\n",
            "  \"classifier_dropout\": null,\n",
            "  \"gradient_checkpointing\": false,\n",
            "  \"hidden_act\": \"gelu\",\n",
            "  \"hidden_dropout_prob\": 0.1,\n",
            "  \"hidden_size\": 768,\n",
            "  \"id2label\": {\n",
            "    \"0\": \"LABEL_0\",\n",
            "    \"1\": \"LABEL_1\",\n",
            "    \"2\": \"LABEL_2\"\n",
            "  },\n",
            "  \"initializer_range\": 0.02,\n",
            "  \"intermediate_size\": 3072,\n",
            "  \"label2id\": {\n",
            "    \"LABEL_0\": 0,\n",
            "    \"LABEL_1\": 1,\n",
            "    \"LABEL_2\": 2\n",
            "  },\n",
            "  \"layer_norm_eps\": 1e-12,\n",
            "  \"max_position_embeddings\": 512,\n",
            "  \"model_type\": \"bert\",\n",
            "  \"num_attention_heads\": 12,\n",
            "  \"num_hidden_layers\": 12,\n",
            "  \"pad_token_id\": 0,\n",
            "  \"position_embedding_type\": \"absolute\",\n",
            "  \"problem_type\": \"single_label_classification\",\n",
            "  \"torch_dtype\": \"float32\",\n",
            "  \"transformers_version\": \"4.18.0\",\n",
            "  \"type_vocab_size\": 2,\n",
            "  \"use_cache\": true,\n",
            "  \"vocab_size\": 30522\n",
            "}\n",
            "\n",
            "loading weights file /content/drive/MyDrive/model_S/pytorch_model.bin\n",
            "All model checkpoint weights were used when initializing BertForSequenceClassification.\n",
            "\n",
            "All the weights of BertForSequenceClassification were initialized from the model checkpoint at /content/drive/MyDrive/model_S.\n",
            "If your task is similar to the task the model of the checkpoint was trained on, you can already use BertForSequenceClassification for predictions without further training.\n"
          ]
        }
      ]
    },
    {
      "cell_type": "code",
      "source": [
        "test_trainer = Trainer(model)"
      ],
      "metadata": {
        "colab": {
          "base_uri": "https://localhost:8080/"
        },
        "outputId": "2aa090e8-991b-4616-c122-a6c626160a28",
        "id": "ykaq15frWs8L"
      },
      "execution_count": null,
      "outputs": [
        {
          "output_type": "stream",
          "name": "stderr",
          "text": [
            "No `TrainingArguments` passed, using `output_dir=tmp_trainer`.\n",
            "PyTorch: setting up devices\n",
            "The default value for the training argument `--report_to` will change in v5 (from all installed integrations to none). In v5, you will need to use `--report_to all` to get the same behavior as now. You should start updating your code and make this info disappear :-).\n"
          ]
        }
      ]
    },
    {
      "cell_type": "code",
      "source": [
        "# Make prediction\n",
        "raw_pred, _, _ = test_trainer.predict(test_dataset)\n",
        "\n",
        "# Preprocess raw predictions\n",
        "y_pred_S = np.argmax(raw_pred, axis=1)"
      ],
      "metadata": {
        "colab": {
          "base_uri": "https://localhost:8080/",
          "height": 88
        },
        "outputId": "ace0d20e-587b-44a5-c41e-f4b65e432400",
        "id": "MXjK7y7IWs8M"
      },
      "execution_count": null,
      "outputs": [
        {
          "output_type": "stream",
          "name": "stderr",
          "text": [
            "***** Running Prediction *****\n",
            "  Num examples = 1965\n",
            "  Batch size = 8\n"
          ]
        },
        {
          "output_type": "display_data",
          "data": {
            "text/plain": [
              "<IPython.core.display.HTML object>"
            ],
            "text/html": [
              "\n",
              "    <div>\n",
              "      \n",
              "      <progress value='246' max='246' style='width:300px; height:20px; vertical-align: middle;'></progress>\n",
              "      [246/246 01:07]\n",
              "    </div>\n",
              "    "
            ]
          },
          "metadata": {}
        }
      ]
    },
    {
      "cell_type": "code",
      "source": [
        "test_data[\"S_pred\"] = pd.DataFrame(y_pred_S)"
      ],
      "metadata": {
        "id": "e1ZRDRnWWs8N"
      },
      "execution_count": null,
      "outputs": []
    },
    {
      "cell_type": "markdown",
      "source": [
        "## G"
      ],
      "metadata": {
        "id": "AeE0D7He9NKm"
      }
    },
    {
      "cell_type": "markdown",
      "source": [
        "### Train"
      ],
      "metadata": {
        "id": "UaXSD_bWgZ-M"
      }
    },
    {
      "cell_type": "code",
      "source": [
        "train_encodings_G = tokenizer(X_train_G, truncation=True, padding=True, max_length=max_length)\n",
        "test_encodings_G = tokenizer(X_test_G, truncation=True, padding=True, max_length=max_length)"
      ],
      "metadata": {
        "id": "pQNCmtLg6L5X"
      },
      "execution_count": null,
      "outputs": []
    },
    {
      "cell_type": "code",
      "source": [
        "train_dataset_G = Dataset(train_encodings_G, y_train_G)\n",
        "val_dataset_G = Dataset(test_encodings_G, y_test_G)"
      ],
      "metadata": {
        "id": "oWFNPeGS6L5Y"
      },
      "execution_count": null,
      "outputs": []
    },
    {
      "cell_type": "code",
      "source": [
        "trainer_G = Trainer(\n",
        "    model=model,\n",
        "    eval_dataset=val_dataset_G,\n",
        "    args=training_args,\n",
        "    train_dataset=train_dataset_G,\n",
        "    compute_metrics=compute_metrics,\n",
        "    tokenizer=tokenizer\n",
        ")"
      ],
      "metadata": {
        "id": "vi766t_-6L5Z"
      },
      "execution_count": null,
      "outputs": []
    },
    {
      "cell_type": "code",
      "source": [
        "trainer_G.train()"
      ],
      "metadata": {
        "colab": {
          "base_uri": "https://localhost:8080/",
          "height": 814
        },
        "outputId": "12873a18-7587-465e-83cf-1484f12c07aa",
        "id": "YdcnHRD-6L5Z"
      },
      "execution_count": null,
      "outputs": [
        {
          "output_type": "stream",
          "name": "stderr",
          "text": [
            "/usr/local/lib/python3.7/dist-packages/transformers/optimization.py:309: FutureWarning: This implementation of AdamW is deprecated and will be removed in a future version. Use the PyTorch implementation torch.optim.AdamW instead, or set `no_deprecation_warning=True` to disable this warning\n",
            "  FutureWarning,\n",
            "***** Running training *****\n",
            "  Num examples = 1246\n",
            "  Num Epochs = 3\n",
            "  Instantaneous batch size per device = 16\n",
            "  Total train batch size (w. parallel, distributed & accumulation) = 16\n",
            "  Gradient Accumulation steps = 1\n",
            "  Total optimization steps = 234\n"
          ]
        },
        {
          "output_type": "display_data",
          "data": {
            "text/plain": [
              "<IPython.core.display.HTML object>"
            ],
            "text/html": [
              "\n",
              "    <div>\n",
              "      \n",
              "      <progress value='234' max='234' style='width:300px; height:20px; vertical-align: middle;'></progress>\n",
              "      [234/234 06:52, Epoch 3/3]\n",
              "    </div>\n",
              "    <table border=\"1\" class=\"dataframe\">\n",
              "  <thead>\n",
              " <tr style=\"text-align: left;\">\n",
              "      <th>Step</th>\n",
              "      <th>Training Loss</th>\n",
              "      <th>Validation Loss</th>\n",
              "      <th>Accuracy</th>\n",
              "      <th>F1</th>\n",
              "      <th>Precision</th>\n",
              "      <th>Recall</th>\n",
              "    </tr>\n",
              "  </thead>\n",
              "  <tbody>\n",
              "    <tr>\n",
              "      <td>50</td>\n",
              "      <td>0.859300</td>\n",
              "      <td>0.783148</td>\n",
              "      <td>0.601124</td>\n",
              "      <td>0.250292</td>\n",
              "      <td>0.200375</td>\n",
              "      <td>0.333333</td>\n",
              "    </tr>\n",
              "    <tr>\n",
              "      <td>100</td>\n",
              "      <td>0.706300</td>\n",
              "      <td>0.536585</td>\n",
              "      <td>0.790262</td>\n",
              "      <td>0.522962</td>\n",
              "      <td>0.540137</td>\n",
              "      <td>0.522235</td>\n",
              "    </tr>\n",
              "    <tr>\n",
              "      <td>150</td>\n",
              "      <td>0.462000</td>\n",
              "      <td>0.318783</td>\n",
              "      <td>0.878277</td>\n",
              "      <td>0.592183</td>\n",
              "      <td>0.595664</td>\n",
              "      <td>0.594456</td>\n",
              "    </tr>\n",
              "    <tr>\n",
              "      <td>200</td>\n",
              "      <td>0.275500</td>\n",
              "      <td>0.296797</td>\n",
              "      <td>0.874532</td>\n",
              "      <td>0.590462</td>\n",
              "      <td>0.596122</td>\n",
              "      <td>0.591690</td>\n",
              "    </tr>\n",
              "  </tbody>\n",
              "</table><p>"
            ]
          },
          "metadata": {}
        },
        {
          "output_type": "stream",
          "name": "stderr",
          "text": [
            "***** Running Evaluation *****\n",
            "  Num examples = 534\n",
            "  Batch size = 8\n",
            "/usr/local/lib/python3.7/dist-packages/sklearn/metrics/_classification.py:1318: UndefinedMetricWarning: Precision and F-score are ill-defined and being set to 0.0 in labels with no predicted samples. Use `zero_division` parameter to control this behavior.\n",
            "  _warn_prf(average, modifier, msg_start, len(result))\n",
            "***** Running Evaluation *****\n",
            "  Num examples = 534\n",
            "  Batch size = 8\n",
            "/usr/local/lib/python3.7/dist-packages/sklearn/metrics/_classification.py:1318: UndefinedMetricWarning: Precision and F-score are ill-defined and being set to 0.0 in labels with no predicted samples. Use `zero_division` parameter to control this behavior.\n",
            "  _warn_prf(average, modifier, msg_start, len(result))\n",
            "***** Running Evaluation *****\n",
            "  Num examples = 534\n",
            "  Batch size = 8\n",
            "/usr/local/lib/python3.7/dist-packages/sklearn/metrics/_classification.py:1318: UndefinedMetricWarning: Precision and F-score are ill-defined and being set to 0.0 in labels with no predicted samples. Use `zero_division` parameter to control this behavior.\n",
            "  _warn_prf(average, modifier, msg_start, len(result))\n",
            "***** Running Evaluation *****\n",
            "  Num examples = 534\n",
            "  Batch size = 8\n",
            "/usr/local/lib/python3.7/dist-packages/sklearn/metrics/_classification.py:1318: UndefinedMetricWarning: Precision and F-score are ill-defined and being set to 0.0 in labels with no predicted samples. Use `zero_division` parameter to control this behavior.\n",
            "  _warn_prf(average, modifier, msg_start, len(result))\n",
            "\n",
            "\n",
            "Training completed. Do not forget to share your model on huggingface.co/models =)\n",
            "\n",
            "\n"
          ]
        },
        {
          "output_type": "execute_result",
          "data": {
            "text/plain": [
              "TrainOutput(global_step=234, training_loss=0.5268003634917431, metrics={'train_runtime': 413.836, 'train_samples_per_second': 9.033, 'train_steps_per_second': 0.565, 'total_flos': 983517955467264.0, 'train_loss': 0.5268003634917431, 'epoch': 3.0})"
            ]
          },
          "metadata": {},
          "execution_count": 23
        }
      ]
    },
    {
      "cell_type": "code",
      "source": [
        "trainer_G.save_model(\"model_G\")"
      ],
      "metadata": {
        "id": "NIfnPiDc6Lxe",
        "colab": {
          "base_uri": "https://localhost:8080/"
        },
        "outputId": "a85f0f37-2d79-4deb-f081-17ccb3533981"
      },
      "execution_count": null,
      "outputs": [
        {
          "output_type": "stream",
          "name": "stderr",
          "text": [
            "Saving model checkpoint to model_G\n",
            "Configuration saved in model_G/config.json\n",
            "Model weights saved in model_G/pytorch_model.bin\n",
            "tokenizer config file saved in model_G/tokenizer_config.json\n",
            "Special tokens file saved in model_G/special_tokens_map.json\n"
          ]
        }
      ]
    },
    {
      "cell_type": "code",
      "source": [
        ""
      ],
      "metadata": {
        "id": "PhNQEEaJ6LsO"
      },
      "execution_count": null,
      "outputs": []
    },
    {
      "cell_type": "markdown",
      "source": [
        "### Predict"
      ],
      "metadata": {
        "id": "YRw7Ec3pWybR"
      }
    },
    {
      "cell_type": "code",
      "source": [
        "model_path = \"/content/drive/MyDrive/model_G\"\n",
        "model = BertForSequenceClassification.from_pretrained(model_path, num_labels=3)"
      ],
      "metadata": {
        "colab": {
          "base_uri": "https://localhost:8080/"
        },
        "outputId": "72476388-207c-4ed2-dfc0-3ed28b113324",
        "id": "aiHVJtAYWybY"
      },
      "execution_count": null,
      "outputs": [
        {
          "output_type": "stream",
          "name": "stderr",
          "text": [
            "loading configuration file /content/drive/MyDrive/model_G/config.json\n",
            "Model config BertConfig {\n",
            "  \"_name_or_path\": \"bert-base-uncased\",\n",
            "  \"architectures\": [\n",
            "    \"BertForSequenceClassification\"\n",
            "  ],\n",
            "  \"attention_probs_dropout_prob\": 0.1,\n",
            "  \"classifier_dropout\": null,\n",
            "  \"gradient_checkpointing\": false,\n",
            "  \"hidden_act\": \"gelu\",\n",
            "  \"hidden_dropout_prob\": 0.1,\n",
            "  \"hidden_size\": 768,\n",
            "  \"id2label\": {\n",
            "    \"0\": \"LABEL_0\",\n",
            "    \"1\": \"LABEL_1\",\n",
            "    \"2\": \"LABEL_2\"\n",
            "  },\n",
            "  \"initializer_range\": 0.02,\n",
            "  \"intermediate_size\": 3072,\n",
            "  \"label2id\": {\n",
            "    \"LABEL_0\": 0,\n",
            "    \"LABEL_1\": 1,\n",
            "    \"LABEL_2\": 2\n",
            "  },\n",
            "  \"layer_norm_eps\": 1e-12,\n",
            "  \"max_position_embeddings\": 512,\n",
            "  \"model_type\": \"bert\",\n",
            "  \"num_attention_heads\": 12,\n",
            "  \"num_hidden_layers\": 12,\n",
            "  \"pad_token_id\": 0,\n",
            "  \"position_embedding_type\": \"absolute\",\n",
            "  \"problem_type\": \"single_label_classification\",\n",
            "  \"torch_dtype\": \"float32\",\n",
            "  \"transformers_version\": \"4.18.0\",\n",
            "  \"type_vocab_size\": 2,\n",
            "  \"use_cache\": true,\n",
            "  \"vocab_size\": 30522\n",
            "}\n",
            "\n",
            "loading weights file /content/drive/MyDrive/model_G/pytorch_model.bin\n",
            "All model checkpoint weights were used when initializing BertForSequenceClassification.\n",
            "\n",
            "All the weights of BertForSequenceClassification were initialized from the model checkpoint at /content/drive/MyDrive/model_G.\n",
            "If your task is similar to the task the model of the checkpoint was trained on, you can already use BertForSequenceClassification for predictions without further training.\n"
          ]
        }
      ]
    },
    {
      "cell_type": "code",
      "source": [
        "test_trainer = Trainer(model)"
      ],
      "metadata": {
        "colab": {
          "base_uri": "https://localhost:8080/"
        },
        "outputId": "99afd4c3-cbd1-499c-a9a7-27453aa14e08",
        "id": "SpjEYZX4WybZ"
      },
      "execution_count": null,
      "outputs": [
        {
          "output_type": "stream",
          "name": "stderr",
          "text": [
            "No `TrainingArguments` passed, using `output_dir=tmp_trainer`.\n",
            "PyTorch: setting up devices\n",
            "The default value for the training argument `--report_to` will change in v5 (from all installed integrations to none). In v5, you will need to use `--report_to all` to get the same behavior as now. You should start updating your code and make this info disappear :-).\n"
          ]
        }
      ]
    },
    {
      "cell_type": "code",
      "source": [
        "# Make prediction\n",
        "raw_pred, _, _ = test_trainer.predict(test_dataset)\n",
        "\n",
        "# Preprocess raw predictions\n",
        "y_pred_G = np.argmax(raw_pred, axis=1)"
      ],
      "metadata": {
        "colab": {
          "base_uri": "https://localhost:8080/",
          "height": 88
        },
        "outputId": "a2e3675d-5073-4c88-cdcd-d9185d7e591e",
        "id": "ZdKGyM_3Wybb"
      },
      "execution_count": null,
      "outputs": [
        {
          "output_type": "stream",
          "name": "stderr",
          "text": [
            "***** Running Prediction *****\n",
            "  Num examples = 1965\n",
            "  Batch size = 8\n"
          ]
        },
        {
          "output_type": "display_data",
          "data": {
            "text/plain": [
              "<IPython.core.display.HTML object>"
            ],
            "text/html": [
              "\n",
              "    <div>\n",
              "      \n",
              "      <progress value='246' max='246' style='width:300px; height:20px; vertical-align: middle;'></progress>\n",
              "      [246/246 01:06]\n",
              "    </div>\n",
              "    "
            ]
          },
          "metadata": {}
        }
      ]
    },
    {
      "cell_type": "code",
      "source": [
        "test_data[\"G_pred\"] = pd.DataFrame(y_pred_G)"
      ],
      "metadata": {
        "id": "-LNtU4ARWybc"
      },
      "execution_count": null,
      "outputs": []
    },
    {
      "cell_type": "code",
      "source": [
        "test_data"
      ],
      "metadata": {
        "id": "L2VB03Eh6LpR",
        "colab": {
          "base_uri": "https://localhost:8080/",
          "height": 419
        },
        "outputId": "67465dd2-934d-4e76-abcb-ac0a0e2d1d81"
      },
      "execution_count": null,
      "outputs": [
        {
          "output_type": "execute_result",
          "data": {
            "text/plain": [
              "     company_year                                               text E_label  \\\n",
              "0     BGF리테일_2020  Facility (Store) (As of the first half of 2021...      B+   \n",
              "1     BGF리테일_2020  dustry, BGF Retail installed droplet barriers,...      B+   \n",
              "2     BGF리테일_2020  Life In addition to creating a physical and ps...      B+   \n",
              "3     BGF리테일_2020  processed food BGF Retail BGF Networks Hello N...      B+   \n",
              "4     BGF리테일_2020  Greenhouse Gas Emissions · Reducing Plastic/Di...      B+   \n",
              "...           ...                                                ...     ...   \n",
              "1960      효성_2020  related legal standards. Category Unit Hyosung...       A   \n",
              "1961      효성_2020  - Subtotal tCO₂eq 546,521 545,248 563,018 GHGs...       A   \n",
              "1962      효성_2020  has established a policy to encourage green pr...       A   \n",
              "1963      효성_2020  151,110 70 Yongyeon 2 Increasing Water Pump Ef...       A   \n",
              "1964      효성_2020  risks from processes exposed to toxic substanc...       A   \n",
              "\n",
              "     S_label G_label ESG_label  E_rating  S_rating  G_rating  ESG_rating  \\\n",
              "0         B+       A         A         1         1       0.0           0   \n",
              "1         B+       A         A         1         1       0.0           0   \n",
              "2         B+       A         A         1         1       0.0           0   \n",
              "3         B+       A         A         1         1       0.0           0   \n",
              "4         B+       A         A         1         1       0.0           0   \n",
              "...      ...     ...       ...       ...       ...       ...         ...   \n",
              "1960      A+      B+         A         0         0       1.0           0   \n",
              "1961      A+      B+         A         0         0       1.0           0   \n",
              "1962      A+      B+         A         0         0       1.0           0   \n",
              "1963      A+      B+         A         0         0       1.0           0   \n",
              "1964      A+      B+         A         0         0       1.0           0   \n",
              "\n",
              "      ESG_pred  E_pred  G_pred  \n",
              "0            1       1       1  \n",
              "1            1       1       1  \n",
              "2            1       1       1  \n",
              "3            1       1       1  \n",
              "4            1       1       1  \n",
              "...        ...     ...     ...  \n",
              "1960         1       3       1  \n",
              "1961         0       0       0  \n",
              "1962         0       1       0  \n",
              "1963         1       1       1  \n",
              "1964         0       1       0  \n",
              "\n",
              "[1965 rows x 13 columns]"
            ],
            "text/html": [
              "\n",
              "  <div id=\"df-f1aa6c89-45a5-4f4a-95e0-ac833ebc92d0\">\n",
              "    <div class=\"colab-df-container\">\n",
              "      <div>\n",
              "<style scoped>\n",
              "    .dataframe tbody tr th:only-of-type {\n",
              "        vertical-align: middle;\n",
              "    }\n",
              "\n",
              "    .dataframe tbody tr th {\n",
              "        vertical-align: top;\n",
              "    }\n",
              "\n",
              "    .dataframe thead th {\n",
              "        text-align: right;\n",
              "    }\n",
              "</style>\n",
              "<table border=\"1\" class=\"dataframe\">\n",
              "  <thead>\n",
              "    <tr style=\"text-align: right;\">\n",
              "      <th></th>\n",
              "      <th>company_year</th>\n",
              "      <th>text</th>\n",
              "      <th>E_label</th>\n",
              "      <th>S_label</th>\n",
              "      <th>G_label</th>\n",
              "      <th>ESG_label</th>\n",
              "      <th>E_rating</th>\n",
              "      <th>S_rating</th>\n",
              "      <th>G_rating</th>\n",
              "      <th>ESG_rating</th>\n",
              "      <th>ESG_pred</th>\n",
              "      <th>E_pred</th>\n",
              "      <th>G_pred</th>\n",
              "    </tr>\n",
              "  </thead>\n",
              "  <tbody>\n",
              "    <tr>\n",
              "      <th>0</th>\n",
              "      <td>BGF리테일_2020</td>\n",
              "      <td>Facility (Store) (As of the first half of 2021...</td>\n",
              "      <td>B+</td>\n",
              "      <td>B+</td>\n",
              "      <td>A</td>\n",
              "      <td>A</td>\n",
              "      <td>1</td>\n",
              "      <td>1</td>\n",
              "      <td>0.0</td>\n",
              "      <td>0</td>\n",
              "      <td>1</td>\n",
              "      <td>1</td>\n",
              "      <td>1</td>\n",
              "    </tr>\n",
              "    <tr>\n",
              "      <th>1</th>\n",
              "      <td>BGF리테일_2020</td>\n",
              "      <td>dustry, BGF Retail installed droplet barriers,...</td>\n",
              "      <td>B+</td>\n",
              "      <td>B+</td>\n",
              "      <td>A</td>\n",
              "      <td>A</td>\n",
              "      <td>1</td>\n",
              "      <td>1</td>\n",
              "      <td>0.0</td>\n",
              "      <td>0</td>\n",
              "      <td>1</td>\n",
              "      <td>1</td>\n",
              "      <td>1</td>\n",
              "    </tr>\n",
              "    <tr>\n",
              "      <th>2</th>\n",
              "      <td>BGF리테일_2020</td>\n",
              "      <td>Life In addition to creating a physical and ps...</td>\n",
              "      <td>B+</td>\n",
              "      <td>B+</td>\n",
              "      <td>A</td>\n",
              "      <td>A</td>\n",
              "      <td>1</td>\n",
              "      <td>1</td>\n",
              "      <td>0.0</td>\n",
              "      <td>0</td>\n",
              "      <td>1</td>\n",
              "      <td>1</td>\n",
              "      <td>1</td>\n",
              "    </tr>\n",
              "    <tr>\n",
              "      <th>3</th>\n",
              "      <td>BGF리테일_2020</td>\n",
              "      <td>processed food BGF Retail BGF Networks Hello N...</td>\n",
              "      <td>B+</td>\n",
              "      <td>B+</td>\n",
              "      <td>A</td>\n",
              "      <td>A</td>\n",
              "      <td>1</td>\n",
              "      <td>1</td>\n",
              "      <td>0.0</td>\n",
              "      <td>0</td>\n",
              "      <td>1</td>\n",
              "      <td>1</td>\n",
              "      <td>1</td>\n",
              "    </tr>\n",
              "    <tr>\n",
              "      <th>4</th>\n",
              "      <td>BGF리테일_2020</td>\n",
              "      <td>Greenhouse Gas Emissions · Reducing Plastic/Di...</td>\n",
              "      <td>B+</td>\n",
              "      <td>B+</td>\n",
              "      <td>A</td>\n",
              "      <td>A</td>\n",
              "      <td>1</td>\n",
              "      <td>1</td>\n",
              "      <td>0.0</td>\n",
              "      <td>0</td>\n",
              "      <td>1</td>\n",
              "      <td>1</td>\n",
              "      <td>1</td>\n",
              "    </tr>\n",
              "    <tr>\n",
              "      <th>...</th>\n",
              "      <td>...</td>\n",
              "      <td>...</td>\n",
              "      <td>...</td>\n",
              "      <td>...</td>\n",
              "      <td>...</td>\n",
              "      <td>...</td>\n",
              "      <td>...</td>\n",
              "      <td>...</td>\n",
              "      <td>...</td>\n",
              "      <td>...</td>\n",
              "      <td>...</td>\n",
              "      <td>...</td>\n",
              "      <td>...</td>\n",
              "    </tr>\n",
              "    <tr>\n",
              "      <th>1960</th>\n",
              "      <td>효성_2020</td>\n",
              "      <td>related legal standards. Category Unit Hyosung...</td>\n",
              "      <td>A</td>\n",
              "      <td>A+</td>\n",
              "      <td>B+</td>\n",
              "      <td>A</td>\n",
              "      <td>0</td>\n",
              "      <td>0</td>\n",
              "      <td>1.0</td>\n",
              "      <td>0</td>\n",
              "      <td>1</td>\n",
              "      <td>3</td>\n",
              "      <td>1</td>\n",
              "    </tr>\n",
              "    <tr>\n",
              "      <th>1961</th>\n",
              "      <td>효성_2020</td>\n",
              "      <td>- Subtotal tCO₂eq 546,521 545,248 563,018 GHGs...</td>\n",
              "      <td>A</td>\n",
              "      <td>A+</td>\n",
              "      <td>B+</td>\n",
              "      <td>A</td>\n",
              "      <td>0</td>\n",
              "      <td>0</td>\n",
              "      <td>1.0</td>\n",
              "      <td>0</td>\n",
              "      <td>0</td>\n",
              "      <td>0</td>\n",
              "      <td>0</td>\n",
              "    </tr>\n",
              "    <tr>\n",
              "      <th>1962</th>\n",
              "      <td>효성_2020</td>\n",
              "      <td>has established a policy to encourage green pr...</td>\n",
              "      <td>A</td>\n",
              "      <td>A+</td>\n",
              "      <td>B+</td>\n",
              "      <td>A</td>\n",
              "      <td>0</td>\n",
              "      <td>0</td>\n",
              "      <td>1.0</td>\n",
              "      <td>0</td>\n",
              "      <td>0</td>\n",
              "      <td>1</td>\n",
              "      <td>0</td>\n",
              "    </tr>\n",
              "    <tr>\n",
              "      <th>1963</th>\n",
              "      <td>효성_2020</td>\n",
              "      <td>151,110 70 Yongyeon 2 Increasing Water Pump Ef...</td>\n",
              "      <td>A</td>\n",
              "      <td>A+</td>\n",
              "      <td>B+</td>\n",
              "      <td>A</td>\n",
              "      <td>0</td>\n",
              "      <td>0</td>\n",
              "      <td>1.0</td>\n",
              "      <td>0</td>\n",
              "      <td>1</td>\n",
              "      <td>1</td>\n",
              "      <td>1</td>\n",
              "    </tr>\n",
              "    <tr>\n",
              "      <th>1964</th>\n",
              "      <td>효성_2020</td>\n",
              "      <td>risks from processes exposed to toxic substanc...</td>\n",
              "      <td>A</td>\n",
              "      <td>A+</td>\n",
              "      <td>B+</td>\n",
              "      <td>A</td>\n",
              "      <td>0</td>\n",
              "      <td>0</td>\n",
              "      <td>1.0</td>\n",
              "      <td>0</td>\n",
              "      <td>0</td>\n",
              "      <td>1</td>\n",
              "      <td>0</td>\n",
              "    </tr>\n",
              "  </tbody>\n",
              "</table>\n",
              "<p>1965 rows × 13 columns</p>\n",
              "</div>\n",
              "      <button class=\"colab-df-convert\" onclick=\"convertToInteractive('df-f1aa6c89-45a5-4f4a-95e0-ac833ebc92d0')\"\n",
              "              title=\"Convert this dataframe to an interactive table.\"\n",
              "              style=\"display:none;\">\n",
              "        \n",
              "  <svg xmlns=\"http://www.w3.org/2000/svg\" height=\"24px\"viewBox=\"0 0 24 24\"\n",
              "       width=\"24px\">\n",
              "    <path d=\"M0 0h24v24H0V0z\" fill=\"none\"/>\n",
              "    <path d=\"M18.56 5.44l.94 2.06.94-2.06 2.06-.94-2.06-.94-.94-2.06-.94 2.06-2.06.94zm-11 1L8.5 8.5l.94-2.06 2.06-.94-2.06-.94L8.5 2.5l-.94 2.06-2.06.94zm10 10l.94 2.06.94-2.06 2.06-.94-2.06-.94-.94-2.06-.94 2.06-2.06.94z\"/><path d=\"M17.41 7.96l-1.37-1.37c-.4-.4-.92-.59-1.43-.59-.52 0-1.04.2-1.43.59L10.3 9.45l-7.72 7.72c-.78.78-.78 2.05 0 2.83L4 21.41c.39.39.9.59 1.41.59.51 0 1.02-.2 1.41-.59l7.78-7.78 2.81-2.81c.8-.78.8-2.07 0-2.86zM5.41 20L4 18.59l7.72-7.72 1.47 1.35L5.41 20z\"/>\n",
              "  </svg>\n",
              "      </button>\n",
              "      \n",
              "  <style>\n",
              "    .colab-df-container {\n",
              "      display:flex;\n",
              "      flex-wrap:wrap;\n",
              "      gap: 12px;\n",
              "    }\n",
              "\n",
              "    .colab-df-convert {\n",
              "      background-color: #E8F0FE;\n",
              "      border: none;\n",
              "      border-radius: 50%;\n",
              "      cursor: pointer;\n",
              "      display: none;\n",
              "      fill: #1967D2;\n",
              "      height: 32px;\n",
              "      padding: 0 0 0 0;\n",
              "      width: 32px;\n",
              "    }\n",
              "\n",
              "    .colab-df-convert:hover {\n",
              "      background-color: #E2EBFA;\n",
              "      box-shadow: 0px 1px 2px rgba(60, 64, 67, 0.3), 0px 1px 3px 1px rgba(60, 64, 67, 0.15);\n",
              "      fill: #174EA6;\n",
              "    }\n",
              "\n",
              "    [theme=dark] .colab-df-convert {\n",
              "      background-color: #3B4455;\n",
              "      fill: #D2E3FC;\n",
              "    }\n",
              "\n",
              "    [theme=dark] .colab-df-convert:hover {\n",
              "      background-color: #434B5C;\n",
              "      box-shadow: 0px 1px 3px 1px rgba(0, 0, 0, 0.15);\n",
              "      filter: drop-shadow(0px 1px 2px rgba(0, 0, 0, 0.3));\n",
              "      fill: #FFFFFF;\n",
              "    }\n",
              "  </style>\n",
              "\n",
              "      <script>\n",
              "        const buttonEl =\n",
              "          document.querySelector('#df-f1aa6c89-45a5-4f4a-95e0-ac833ebc92d0 button.colab-df-convert');\n",
              "        buttonEl.style.display =\n",
              "          google.colab.kernel.accessAllowed ? 'block' : 'none';\n",
              "\n",
              "        async function convertToInteractive(key) {\n",
              "          const element = document.querySelector('#df-f1aa6c89-45a5-4f4a-95e0-ac833ebc92d0');\n",
              "          const dataTable =\n",
              "            await google.colab.kernel.invokeFunction('convertToInteractive',\n",
              "                                                     [key], {});\n",
              "          if (!dataTable) return;\n",
              "\n",
              "          const docLinkHtml = 'Like what you see? Visit the ' +\n",
              "            '<a target=\"_blank\" href=https://colab.research.google.com/notebooks/data_table.ipynb>data table notebook</a>'\n",
              "            + ' to learn more about interactive tables.';\n",
              "          element.innerHTML = '';\n",
              "          dataTable['output_type'] = 'display_data';\n",
              "          await google.colab.output.renderOutput(dataTable, element);\n",
              "          const docLink = document.createElement('div');\n",
              "          docLink.innerHTML = docLinkHtml;\n",
              "          element.appendChild(docLink);\n",
              "        }\n",
              "      </script>\n",
              "    </div>\n",
              "  </div>\n",
              "  "
            ]
          },
          "metadata": {},
          "execution_count": 91
        }
      ]
    },
    {
      "cell_type": "code",
      "source": [
        "test_data.to_csv(\"test_data.csv\")"
      ],
      "metadata": {
        "id": "H7TRZlUD6LkO"
      },
      "execution_count": null,
      "outputs": []
    },
    {
      "cell_type": "code",
      "source": [
        "(test_data[\"ESG_rating\"] == test_data[\"ESG_pred\"]).value_counts()"
      ],
      "metadata": {
        "id": "DCKrlT1K6LfC",
        "colab": {
          "base_uri": "https://localhost:8080/"
        },
        "outputId": "c5732bbc-fbb5-428b-9392-0ca148fa03c5"
      },
      "execution_count": null,
      "outputs": [
        {
          "output_type": "execute_result",
          "data": {
            "text/plain": [
              "False    1088\n",
              "True      877\n",
              "dtype: int64"
            ]
          },
          "metadata": {},
          "execution_count": 107
        }
      ]
    },
    {
      "cell_type": "code",
      "source": [
        "print(\"ESG정확도:\",(test_data[\"ESG_rating\"] == test_data[\"ESG_pred\"]).value_counts()[1]/((test_data[\"ESG_rating\"] == test_data[\"ESG_pred\"]).value_counts()[0]+(test_data[\"ESG_rating\"] == test_data[\"ESG_pred\"]).value_counts()[1]))"
      ],
      "metadata": {
        "colab": {
          "base_uri": "https://localhost:8080/"
        },
        "id": "7B5kHfWXfRBJ",
        "outputId": "fbf510d0-754e-4654-bf8d-8d9aba4ea5c4"
      },
      "execution_count": null,
      "outputs": [
        {
          "output_type": "stream",
          "name": "stdout",
          "text": [
            "ESG정확도: 0.44631043256997455\n"
          ]
        }
      ]
    },
    {
      "cell_type": "code",
      "source": [
        "(test_data[\"E_rating\"] == test_data[\"E_pred\"]).value_counts()"
      ],
      "metadata": {
        "id": "-DCbD0Cu6LcX",
        "colab": {
          "base_uri": "https://localhost:8080/"
        },
        "outputId": "953f6936-2463-4ea0-b19f-d9a6ab350c17"
      },
      "execution_count": null,
      "outputs": [
        {
          "output_type": "execute_result",
          "data": {
            "text/plain": [
              "True     1288\n",
              "False     677\n",
              "dtype: int64"
            ]
          },
          "metadata": {},
          "execution_count": 103
        }
      ]
    },
    {
      "cell_type": "code",
      "source": [
        "print(\"E정확도:\",(test_data[\"E_rating\"] == test_data[\"E_pred\"]).value_counts()[1]/((test_data[\"E_rating\"] == test_data[\"E_pred\"]).value_counts()[0]+(test_data[\"E_rating\"] == test_data[\"E_pred\"]).value_counts()[1]))"
      ],
      "metadata": {
        "colab": {
          "base_uri": "https://localhost:8080/"
        },
        "id": "rFeEf0ODfYn9",
        "outputId": "6899f47d-1140-4249-97ee-3a5bdf2475a8"
      },
      "execution_count": null,
      "outputs": [
        {
          "output_type": "stream",
          "name": "stdout",
          "text": [
            "E정확도: 0.655470737913486\n"
          ]
        }
      ]
    },
    {
      "cell_type": "code",
      "source": [
        "(test_data[\"S_rating\"] == test_data[\"S_pred\"]).value_counts()"
      ],
      "metadata": {
        "id": "y4ffRR476LZ0",
        "colab": {
          "base_uri": "https://localhost:8080/"
        },
        "outputId": "660ea9ac-d38d-4435-b828-e043ee2b245d"
      },
      "execution_count": null,
      "outputs": [
        {
          "output_type": "execute_result",
          "data": {
            "text/plain": [
              "True     1627\n",
              "False     338\n",
              "dtype: int64"
            ]
          },
          "metadata": {},
          "execution_count": 118
        }
      ]
    },
    {
      "cell_type": "code",
      "source": [
        "print(\"S정확도:\",(test_data[\"S_rating\"] == test_data[\"S_pred\"]).value_counts()[1]/((test_data[\"S_rating\"] == test_data[\"S_pred\"]).value_counts()[0]+(test_data[\"S_rating\"] == test_data[\"S_pred\"]).value_counts()[1]))"
      ],
      "metadata": {
        "colab": {
          "base_uri": "https://localhost:8080/"
        },
        "id": "WAVC1tkofbKN",
        "outputId": "27b7b531-d040-45ef-b501-48468f66614c"
      },
      "execution_count": null,
      "outputs": [
        {
          "output_type": "stream",
          "name": "stdout",
          "text": [
            "S정확도: 0.8279898218829517\n"
          ]
        }
      ]
    },
    {
      "cell_type": "code",
      "source": [
        "(test_data[\"G_rating\"] == test_data[\"G_pred\"]).value_counts()"
      ],
      "metadata": {
        "id": "5j9IvMQ86LW8",
        "colab": {
          "base_uri": "https://localhost:8080/"
        },
        "outputId": "7c1d44c0-7f74-47c4-9313-0cc7b5d6f857"
      },
      "execution_count": null,
      "outputs": [
        {
          "output_type": "execute_result",
          "data": {
            "text/plain": [
              "False    1189\n",
              "True      776\n",
              "dtype: int64"
            ]
          },
          "metadata": {},
          "execution_count": 105
        }
      ]
    },
    {
      "cell_type": "code",
      "source": [
        "print(\"G정확도:\",(test_data[\"G_rating\"] == test_data[\"G_pred\"]).value_counts()[1]/((test_data[\"G_rating\"] == test_data[\"G_pred\"]).value_counts()[0]+(test_data[\"G_rating\"] == test_data[\"G_pred\"]).value_counts()[1]))"
      ],
      "metadata": {
        "colab": {
          "base_uri": "https://localhost:8080/"
        },
        "id": "SJOFXtK7ffA8",
        "outputId": "a4608772-5c39-417e-da66-696ca04db02f"
      },
      "execution_count": null,
      "outputs": [
        {
          "output_type": "stream",
          "name": "stdout",
          "text": [
            "G정확도: 0.39491094147582695\n"
          ]
        }
      ]
    },
    {
      "cell_type": "code",
      "source": [
        ""
      ],
      "metadata": {
        "id": "8n8BUxvL6LMA"
      },
      "execution_count": null,
      "outputs": []
    }
  ]
}